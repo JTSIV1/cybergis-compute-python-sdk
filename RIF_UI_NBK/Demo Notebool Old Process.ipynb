{
 "cells": [
  {
   "cell_type": "code",
   "execution_count": 8,
   "metadata": {},
   "outputs": [],
   "source": [
    "from cybergis_compute_client import CyberGISCompute\n",
    "\n",
    "cybergis = CyberGISCompute(url=\"cgjobsup-dev.cigi.illinois.edu\", port=3030, protocol='HTTP', isJupyter=True)"
   ]
  },
  {
   "cell_type": "code",
   "execution_count": 2,
   "metadata": {},
   "outputs": [
    {
     "name": "stdout",
     "output_type": "stream",
     "text": [
      "💻 Found system token\n",
      "🎯 Logged in as zimo-xiao@cybergisx.cigi.illinois.edu\n"
     ]
    },
    {
     "data": {
      "text/html": [
       "<table>\n",
       "<thead>\n",
       "<tr><th style=\"text-align:left\">id             </th><th style=\"text-align:left\">hpc              </th><th style=\"text-align:left\">executableFolder  </th><th style=\"text-align:left\">dataFolder  </th><th style=\"text-align:left\">resultFolder  </th><th style=\"text-align:left\">param  </th><th style=\"text-align:left\">slurm  </th><th style=\"text-align:left\">userId                               </th><th style=\"text-align:left\">maintainer            </th><th style=\"text-align:left\">createdAt               </th></tr>\n",
       "</thead>\n",
       "<tbody>\n",
       "<tr><td style=\"text-align:left\">1633274671YjZwJ</td><td style=\"text-align:left\">keeling_community</td><td style=\"text-align:left\">                  </td><td style=\"text-align:left\">            </td><td style=\"text-align:left\">              </td><td style=\"text-align:left\">{}     </td><td style=\"text-align:left\">null   </td><td style=\"text-align:left\">zimo-xiao@cybergisx.cigi.illinois.edu</td><td style=\"text-align:left\">community_contribution</td><td style=\"text-align:left\">2021-10-03T10:24:30.000Z</td></tr>\n",
       "</tbody>\n",
       "</table>"
      ],
      "text/plain": [
       "<IPython.core.display.HTML object>"
      ]
     },
     "metadata": {},
     "output_type": "display_data"
    }
   ],
   "source": [
    "demo_job = cybergis.create_job(hpc='keeling_community')"
   ]
  },
  {
   "cell_type": "code",
   "execution_count": 3,
   "metadata": {},
   "outputs": [
    {
     "data": {
      "text/html": [
       "<table>\n",
       "<thead>\n",
       "<tr><th style=\"text-align:left\">id             </th><th style=\"text-align:left\">hpc              </th><th style=\"text-align:left\">executableFolder                   </th><th style=\"text-align:left\">dataFolder  </th><th style=\"text-align:left\">resultFolder  </th><th style=\"text-align:left\">param  </th><th style=\"text-align:left\">slurm                                                               </th><th style=\"text-align:left\">userId                               </th><th style=\"text-align:left\">maintainer            </th><th style=\"text-align:left\">createdAt               </th></tr>\n",
       "</thead>\n",
       "<tbody>\n",
       "<tr><td style=\"text-align:left\">1633274671YjZwJ</td><td style=\"text-align:left\">keeling_community</td><td style=\"text-align:left\">git://cybergis-compute-modules-test</td><td style=\"text-align:left\">            </td><td style=\"text-align:left\">              </td><td style=\"text-align:left\">{}     </td><td style=\"text-align:left\">{&quot;mail_type&quot;: [&quot;END&quot;, &quot;FAIL&quot;], &quot;mail_user&quot;: [&quot;zimox2@illinois.edu&quot;]}</td><td style=\"text-align:left\">zimo-xiao@cybergisx.cigi.illinois.edu</td><td style=\"text-align:left\">community_contribution</td><td style=\"text-align:left\">2021-10-03T10:24:30.000Z</td></tr>\n",
       "</tbody>\n",
       "</table>"
      ],
      "text/plain": [
       "<IPython.core.display.HTML object>"
      ]
     },
     "metadata": {},
     "output_type": "display_data"
    }
   ],
   "source": [
    "# all parameters are optional\n",
    "# slurm = {\n",
    "#    walltime?: string -> --time\n",
    "#    num_of_node?: number -> --nodes\n",
    "#    num_of_task?: number -> --ntasks\n",
    "#    cpu_per_task?: number -> --cpus-per-task\n",
    "#    memory?: string -> --mem\n",
    "#    memory_per_cpu?: string -> --mem-per-cpu\n",
    "#    memory_per_gpu?: string -> --mem-per-gpu\n",
    "#    gpus?: number -> --gpus\n",
    "#    gpus_per_node?: number | string -> --gpus-per-node\n",
    "#    gpus_per_socket?: number | string -> --gpus-per-socket\n",
    "#    gpus_per_task?: number | string -> --gpus-per-task\n",
    "#    partition?: string -> --partition\n",
    "#    mail_type?: string[] -> --mail-type\n",
    "#    mail_user?: string[] -> --mail-user\n",
    "#    modules?: string[] -> module load [module_name]\n",
    "# }\n",
    "\n",
    "slurm = {\n",
    "    \"mail_type\": [\"END\", \"FAIL\"],\n",
    "    \"mail_user\": [\"zimox2@illinois.edu\"]\n",
    "}\n",
    "\n",
    "demo_job.set(executableFolder=\"git://cybergis-compute-modules-test\", slurm=slurm)"
   ]
  },
  {
   "cell_type": "code",
   "execution_count": 4,
   "metadata": {},
   "outputs": [
    {
     "name": "stdout",
     "output_type": "stream",
     "text": [
      "✅ job submitted\n"
     ]
    },
    {
     "data": {
      "text/html": [
       "<table>\n",
       "<thead>\n",
       "<tr><th style=\"text-align:left\">id             </th><th style=\"text-align:left\">hpc              </th><th style=\"text-align:left\">executableFolder                   </th><th style=\"text-align:left\">dataFolder  </th><th style=\"text-align:left\">resultFolder  </th><th style=\"text-align:left\">param  </th><th style=\"text-align:left\">slurm                                                               </th><th style=\"text-align:left\">userId                               </th><th style=\"text-align:left\">maintainer            </th><th style=\"text-align:left\">createdAt               </th></tr>\n",
       "</thead>\n",
       "<tbody>\n",
       "<tr><td style=\"text-align:left\">1633274671YjZwJ</td><td style=\"text-align:left\">keeling_community</td><td style=\"text-align:left\">git://cybergis-compute-modules-test</td><td style=\"text-align:left\">            </td><td style=\"text-align:left\">              </td><td style=\"text-align:left\">{}     </td><td style=\"text-align:left\">{&quot;mail_type&quot;: [&quot;END&quot;, &quot;FAIL&quot;], &quot;mail_user&quot;: [&quot;zimox2@illinois.edu&quot;]}</td><td style=\"text-align:left\">zimo-xiao@cybergisx.cigi.illinois.edu</td><td style=\"text-align:left\">community_contribution</td><td style=\"text-align:left\">2021-10-03T10:24:30.000Z</td></tr>\n",
       "</tbody>\n",
       "</table>"
      ],
      "text/plain": [
       "<IPython.core.display.HTML object>"
      ]
     },
     "metadata": {},
     "output_type": "display_data"
    },
    {
     "data": {
      "text/plain": [
       "<cybergis_compute_client.Job.Job at 0x7f3374341070>"
      ]
     },
     "execution_count": 4,
     "metadata": {},
     "output_type": "execute_result"
    }
   ],
   "source": [
    "demo_job.submit()"
   ]
  },
  {
   "cell_type": "code",
   "execution_count": 5,
   "metadata": {},
   "outputs": [
    {
     "name": "stdout",
     "output_type": "stream",
     "text": [
      "📮 Job ID: 1633274671YjZwJ\n",
      "🖥 HPC: keeling_community\n"
     ]
    },
    {
     "data": {
      "text/html": [
       "<table>\n",
       "<thead>\n",
       "<tr><th>types               </th><th>message                                                                                                                                                 </th><th>time                    </th></tr>\n",
       "</thead>\n",
       "<tbody>\n",
       "<tr><td>JOB_QUEUED          </td><td>job [1633274671YjZwJ] is queued, waiting for registration                                                                                               </td><td>2021-10-03T10:24:36.000Z</td></tr>\n",
       "<tr><td>JOB_REGISTERED      </td><td>job [1633274671YjZwJ] is registered with the supervisor, waiting for initialization                                                                     </td><td>2021-10-03T10:24:36.000Z</td></tr>\n",
       "<tr><td>SLURM_UPLOAD        </td><td>uploading files                                                                                                                                         </td><td>2021-10-03T10:24:40.000Z</td></tr>\n",
       "<tr><td>SSH_UNZIP           </td><td>unzipping /data/keeling/a/cigi-gisolve/scratch/dev/1633274671YjZwJ/executable.zip to /data/keeling/a/cigi-gisolve/scratch/dev/1633274671YjZwJ/executable</td><td>2021-10-03T10:24:40.000Z</td></tr>\n",
       "<tr><td>SSH_RM              </td><td>removing /data/keeling/a/cigi-gisolve/scratch/dev/1633274671YjZwJ/executable.zip                                                                        </td><td>2021-10-03T10:24:40.000Z</td></tr>\n",
       "<tr><td>SSH_CREATE_FILE     </td><td>create file to /data/keeling/a/cigi-gisolve/scratch/dev/1633274671YjZwJ/executable/job.json                                                             </td><td>2021-10-03T10:24:40.000Z</td></tr>\n",
       "<tr><td>SLURM_MKDIR_RESULT  </td><td>creating result folder                                                                                                                                  </td><td>2021-10-03T10:24:40.000Z</td></tr>\n",
       "<tr><td>SLURM_SUBMIT        </td><td>submitting slurm job                                                                                                                                    </td><td>2021-10-03T10:24:40.000Z</td></tr>\n",
       "<tr><td>SLURM_SUBMIT_SUCCESS</td><td>slurm job submitted with slurm job id 479726                                                                                                            </td><td>2021-10-03T10:24:40.000Z</td></tr>\n",
       "<tr><td>JOB_INIT            </td><td>job [1633274671YjZwJ] is initialized, waiting for job completion                                                                                        </td><td>2021-10-03T10:24:40.000Z</td></tr>\n",
       "<tr><td>SSH_ZIP             </td><td>zipping /data/keeling/a/cigi-gisolve/scratch/dev/1633274671YjZwJ/result to /data/keeling/a/cigi-gisolve/scratch/dev/1633274671YjZwJ/result.zip          </td><td>2021-10-03T10:24:48.000Z</td></tr>\n",
       "<tr><td>SSH_RM              </td><td>removing /data/keeling/a/cigi-gisolve/scratch/dev/1633274671YjZwJ/result.zip                                                                            </td><td>2021-10-03T10:24:48.000Z</td></tr>\n",
       "<tr><td>SSH_SCP_DOWNLOAD    </td><td>get file from /data/keeling/a/cigi-gisolve/scratch/dev/1633274671YjZwJ/result to /job_supervisor/data/root/1633274677OL1l                               </td><td>2021-10-03T10:24:48.000Z</td></tr>\n",
       "<tr><td>JOB_ENDED           </td><td>job [1633274671YjZwJ] finished                                                                                                                          </td><td>2021-10-03T10:24:48.000Z</td></tr>\n",
       "</tbody>\n",
       "</table>"
      ],
      "text/plain": [
       "<IPython.core.display.HTML object>"
      ]
     },
     "metadata": {},
     "output_type": "display_data"
    }
   ],
   "source": [
    "demo_job.events()"
   ]
  },
  {
   "cell_type": "code",
   "execution_count": 6,
   "metadata": {},
   "outputs": [
    {
     "name": "stdout",
     "output_type": "stream",
     "text": [
      "📮 Job ID: 1633274671YjZwJ\n",
      "🖥 HPC: keeling_community\n"
     ]
    },
    {
     "data": {
      "text/html": [
       "<table>\n",
       "<thead>\n",
       "<tr><th>message                                                                                                                                                                                                                                                                                                                                                                                                                                                                                                                                       </th><th>time                    </th></tr>\n",
       "</thead>\n",
       "<tbody>\n",
       "<tr><td style='text-align:left'>/data/cigi/cybergisx-easybuild/easybuild/software/PostGIS/3.1.2-foss-2019b/bin:/data/cigi/cybergisx-easybuild/easybuild/software/protobuf-c/1.3.3-GCCcore-8.3.0/bin:/data/cigi/cybergisx-easybuild/easybuild/software/protobuf/3.10.0-GCCcore-8.3.0/bin:/data/cigi/cybergisx-easybuild/easybuild/software/PostgreSQL/12.4-GCCcore-8.3.0/bin:/data/cigi/cybergisx-easybuild/easybuild/software/SoPlex/4.0.1-foss-2019b/bin:/data/cigi/cybergisx-easybuild/easybuild/software/Xvfb/1.20.8-GCCcore-8.3.0/bin:/data/cigi...[download for full log]</td><td style='text-align:left'>2021-10-03T10:24:48.000Z</td></tr>\n",
       "<tr><td style='text-align:left'>------------------ /data/cigi/cybergisx-easybuild/metamodules ------------------\n",
       "   cjw/2021-08    cybergisx/2021-08\n",
       "\n",
       "------------- /data/cigi/cybergisx-easybuild/easybuild/modules/all -------------\n",
       "   Anaconda3/4.4.0\n",
       "   Anaconda3/2019.03\n",
       "   Anaconda3/2020.11                                       (D)\n",
       "   Autoconf/2.69-GCCcore-8.3.0\n",
       "   Automake/1.16.1-GCCcore-8.3.0\n",
       "   Autotools/20180311-GCCcore-8.3.0\n",
       "   Bison/3.3.2-GCCcore-8.3.0\n",
       "   Bison/3.3.2\n",
       "   Bison/3.5.3                                       ...[download for full log]                                                                                                                                                                                                                                                                                                                                                                                                                                                                                                                                               </td><td style='text-align:left'>2021-10-03T10:24:48.000Z</td></tr>\n",
       "</tbody>\n",
       "</table>"
      ],
      "text/plain": [
       "<IPython.core.display.HTML object>"
      ]
     },
     "metadata": {},
     "output_type": "display_data"
    }
   ],
   "source": [
    "demo_job.logs()"
   ]
  },
  {
   "cell_type": "code",
   "execution_count": 7,
   "metadata": {},
   "outputs": [
    {
     "name": "stdout",
     "output_type": "stream",
     "text": [
      "file successfully downloaded under: ./1633274677OL1l.zip\n"
     ]
    },
    {
     "data": {
      "text/plain": [
       "'./1633274677OL1l.zip'"
      ]
     },
     "execution_count": 7,
     "metadata": {},
     "output_type": "execute_result"
    }
   ],
   "source": [
    "demo_job.download_result_folder('./')"
   ]
  }
 ],
 "metadata": {
  "kernelspec": {
   "display_name": "Python 3",
   "language": "python",
   "name": "python3"
  },
  "language_info": {
   "codemirror_mode": {
    "name": "ipython",
    "version": 3
   },
   "file_extension": ".py",
   "mimetype": "text/x-python",
   "name": "python",
   "nbconvert_exporter": "python",
   "pygments_lexer": "ipython3",
   "version": "3.8.5"
  }
 },
 "nbformat": 4,
 "nbformat_minor": 4
}
