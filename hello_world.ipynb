{
 "cells": [
  {
   "cell_type": "code",
   "execution_count": 1,
   "metadata": {},
   "outputs": [
    {
     "name": "stdout",
     "output_type": "stream",
     "text": [
      "Defaulting to user installation because normal site-packages is not writeable\n",
      "Collecting git+https://github.com/cybergis/job-supervisor-python-sdk.git@v2\n",
      "  Cloning https://github.com/cybergis/job-supervisor-python-sdk.git (to revision v2) to /tmp/pip-req-build-ssfj8qn0\n",
      "  Running command git clone -q https://github.com/cybergis/job-supervisor-python-sdk.git /tmp/pip-req-build-ssfj8qn0\n",
      "Collecting tabulate\n",
      "  Using cached tabulate-0.8.9-py3-none-any.whl (25 kB)\n",
      "Collecting ipython\n",
      "  Using cached ipython-8.0.1-py3-none-any.whl (747 kB)\n",
      "Collecting ipyfilechooser\n",
      "  Using cached ipyfilechooser-0.6.0-py3-none-any.whl (11 kB)\n",
      "Collecting pexpect>4.3; sys_platform != \"win32\"\n",
      "  Using cached pexpect-4.8.0-py2.py3-none-any.whl (59 kB)\n",
      "Collecting traitlets>=5\n",
      "  Using cached traitlets-5.1.1-py3-none-any.whl (102 kB)\n",
      "Collecting setuptools>=18.5\n",
      "  Downloading setuptools-60.9.0-py3-none-any.whl (1.1 MB)\n",
      "\u001b[K     |████████████████████████████████| 1.1 MB 15.4 MB/s eta 0:00:01█████████████     | 911 kB 15.4 MB/s eta 0:00:01\n",
      "\u001b[?25hCollecting jedi>=0.16\n",
      "  Using cached jedi-0.18.1-py2.py3-none-any.whl (1.6 MB)\n",
      "Collecting prompt-toolkit!=3.0.0,!=3.0.1,<3.1.0,>=2.0.0\n",
      "  Using cached prompt_toolkit-3.0.28-py3-none-any.whl (380 kB)\n",
      "Collecting backcall\n",
      "  Using cached backcall-0.2.0-py2.py3-none-any.whl (11 kB)\n",
      "Collecting stack-data\n",
      "  Using cached stack_data-0.1.4-py3-none-any.whl (20 kB)\n",
      "Collecting decorator\n",
      "  Using cached decorator-5.1.1-py3-none-any.whl (9.1 kB)\n",
      "Collecting black\n",
      "  Using cached black-22.1.0-cp38-cp38-manylinux_2_17_x86_64.manylinux2014_x86_64.whl (1.5 MB)\n",
      "Collecting pickleshare\n",
      "  Using cached pickleshare-0.7.5-py2.py3-none-any.whl (6.9 kB)\n",
      "Collecting pygments\n",
      "  Using cached Pygments-2.11.2-py3-none-any.whl (1.1 MB)\n",
      "Collecting matplotlib-inline\n",
      "  Using cached matplotlib_inline-0.1.3-py3-none-any.whl (8.2 kB)\n",
      "Collecting ipywidgets\n",
      "  Using cached ipywidgets-7.6.5-py2.py3-none-any.whl (121 kB)\n",
      "Collecting ptyprocess>=0.5\n",
      "  Using cached ptyprocess-0.7.0-py2.py3-none-any.whl (13 kB)\n",
      "Collecting parso<0.9.0,>=0.8.0\n",
      "  Using cached parso-0.8.3-py2.py3-none-any.whl (100 kB)\n",
      "Collecting wcwidth\n",
      "  Using cached wcwidth-0.2.5-py2.py3-none-any.whl (30 kB)\n",
      "Collecting executing\n",
      "  Using cached executing-0.8.2-py2.py3-none-any.whl (16 kB)\n",
      "Collecting asttokens\n",
      "  Using cached asttokens-2.0.5-py2.py3-none-any.whl (20 kB)\n",
      "Collecting pure-eval\n",
      "  Using cached pure_eval-0.2.2-py3-none-any.whl (11 kB)\n",
      "Collecting click>=8.0.0\n",
      "  Using cached click-8.0.3-py3-none-any.whl (97 kB)\n",
      "Collecting pathspec>=0.9.0\n",
      "  Using cached pathspec-0.9.0-py2.py3-none-any.whl (31 kB)\n",
      "Collecting platformdirs>=2\n",
      "  Using cached platformdirs-2.5.0-py3-none-any.whl (14 kB)\n",
      "Collecting tomli>=1.1.0\n",
      "  Using cached tomli-2.0.1-py3-none-any.whl (12 kB)\n",
      "Collecting typing-extensions>=3.10.0.0; python_version < \"3.10\"\n",
      "  Downloading typing_extensions-4.1.1-py3-none-any.whl (26 kB)\n",
      "Collecting mypy-extensions>=0.4.3\n",
      "  Using cached mypy_extensions-0.4.3-py2.py3-none-any.whl (4.5 kB)\n",
      "Collecting ipython-genutils~=0.2.0\n",
      "  Using cached ipython_genutils-0.2.0-py2.py3-none-any.whl (26 kB)\n",
      "Collecting ipykernel>=4.5.1\n",
      "  Using cached ipykernel-6.9.0-py3-none-any.whl (128 kB)\n",
      "Collecting jupyterlab-widgets>=1.0.0; python_version >= \"3.6\"\n",
      "  Using cached jupyterlab_widgets-1.0.2-py3-none-any.whl (243 kB)\n",
      "Collecting nbformat>=4.2.0\n",
      "  Using cached nbformat-5.1.3-py3-none-any.whl (178 kB)\n",
      "Collecting widgetsnbextension~=3.5.0\n",
      "  Using cached widgetsnbextension-3.5.2-py2.py3-none-any.whl (1.6 MB)\n",
      "Collecting six\n",
      "  Using cached six-1.16.0-py2.py3-none-any.whl (11 kB)\n",
      "Collecting nest-asyncio\n",
      "  Using cached nest_asyncio-1.5.4-py3-none-any.whl (5.1 kB)\n",
      "Collecting debugpy<2.0,>=1.0.0\n",
      "  Using cached debugpy-1.5.1-cp38-cp38-manylinux_2_5_x86_64.manylinux1_x86_64.manylinux_2_12_x86_64.manylinux2010_x86_64.whl (1.9 MB)\n",
      "Collecting tornado<7.0,>=4.2\n",
      "  Using cached tornado-6.1-cp38-cp38-manylinux2010_x86_64.whl (427 kB)\n",
      "Collecting jupyter-client<8.0\n",
      "  Using cached jupyter_client-7.1.2-py3-none-any.whl (130 kB)\n",
      "Collecting jsonschema!=2.5.0,>=2.4\n",
      "  Using cached jsonschema-4.4.0-py3-none-any.whl (72 kB)\n",
      "Collecting jupyter-core\n",
      "  Using cached jupyter_core-4.9.1-py3-none-any.whl (86 kB)\n",
      "Collecting notebook>=4.4.1\n",
      "  Using cached notebook-6.4.8-py3-none-any.whl (9.9 MB)\n",
      "Collecting entrypoints\n",
      "  Using cached entrypoints-0.4-py3-none-any.whl (5.3 kB)\n",
      "Collecting pyzmq>=13\n",
      "  Using cached pyzmq-22.3.0-cp38-cp38-manylinux_2_12_x86_64.manylinux2010_x86_64.whl (1.1 MB)\n",
      "Collecting python-dateutil>=2.1\n",
      "  Using cached python_dateutil-2.8.2-py2.py3-none-any.whl (247 kB)\n",
      "Collecting importlib-resources>=1.4.0; python_version < \"3.9\"\n",
      "  Using cached importlib_resources-5.4.0-py3-none-any.whl (28 kB)\n",
      "Collecting attrs>=17.4.0\n",
      "  Using cached attrs-21.4.0-py2.py3-none-any.whl (60 kB)\n",
      "Collecting pyrsistent!=0.17.0,!=0.17.1,!=0.17.2,>=0.14.0\n",
      "  Using cached pyrsistent-0.18.1-cp38-cp38-manylinux_2_17_x86_64.manylinux2014_x86_64.whl (119 kB)\n",
      "Collecting Send2Trash>=1.8.0\n",
      "  Using cached Send2Trash-1.8.0-py3-none-any.whl (18 kB)\n",
      "Collecting terminado>=0.8.3\n",
      "  Using cached terminado-0.13.1-py3-none-any.whl (14 kB)\n",
      "Collecting prometheus-client\n",
      "  Using cached prometheus_client-0.13.1-py3-none-any.whl (57 kB)\n",
      "Collecting argon2-cffi\n",
      "  Using cached argon2_cffi-21.3.0-py3-none-any.whl (14 kB)\n",
      "Collecting jinja2\n",
      "  Using cached Jinja2-3.0.3-py3-none-any.whl (133 kB)\n",
      "Collecting nbconvert\n",
      "  Using cached nbconvert-6.4.2-py3-none-any.whl (558 kB)\n",
      "Collecting zipp>=3.1.0; python_version < \"3.10\"\n",
      "  Using cached zipp-3.7.0-py3-none-any.whl (5.3 kB)\n",
      "Collecting argon2-cffi-bindings\n",
      "  Using cached argon2_cffi_bindings-21.2.0-cp36-abi3-manylinux_2_17_x86_64.manylinux2014_x86_64.whl (86 kB)\n",
      "Collecting MarkupSafe>=2.0\n",
      "  Using cached MarkupSafe-2.0.1-cp38-cp38-manylinux2010_x86_64.whl (30 kB)\n",
      "Collecting mistune<2,>=0.8.1\n",
      "  Using cached mistune-0.8.4-py2.py3-none-any.whl (16 kB)\n",
      "Collecting nbclient<0.6.0,>=0.5.0\n",
      "  Using cached nbclient-0.5.10-py3-none-any.whl (69 kB)\n",
      "Collecting pandocfilters>=1.4.1\n",
      "  Using cached pandocfilters-1.5.0-py2.py3-none-any.whl (8.7 kB)\n",
      "Collecting testpath\n",
      "  Using cached testpath-0.5.0-py3-none-any.whl (84 kB)\n",
      "Collecting defusedxml\n",
      "  Using cached defusedxml-0.7.1-py2.py3-none-any.whl (25 kB)\n",
      "Collecting jupyterlab-pygments\n",
      "  Using cached jupyterlab_pygments-0.1.2-py2.py3-none-any.whl (4.6 kB)\n",
      "Collecting bleach\n",
      "  Using cached bleach-4.1.0-py2.py3-none-any.whl (157 kB)\n",
      "Collecting cffi>=1.0.1\n",
      "  Using cached cffi-1.15.0-cp38-cp38-manylinux_2_12_x86_64.manylinux2010_x86_64.whl (446 kB)\n",
      "Collecting webencodings\n",
      "  Using cached webencodings-0.5.1-py2.py3-none-any.whl (11 kB)\n",
      "Collecting packaging\n",
      "  Using cached packaging-21.3-py3-none-any.whl (40 kB)\n",
      "Collecting pycparser\n",
      "  Using cached pycparser-2.21-py2.py3-none-any.whl (118 kB)\n",
      "Collecting pyparsing!=3.0.5,>=2.0.2\n",
      "  Using cached pyparsing-3.0.7-py3-none-any.whl (98 kB)\n",
      "Building wheels for collected packages: cybergis-compute-client\n",
      "  Building wheel for cybergis-compute-client (setup.py) ... \u001b[?25ldone\n",
      "\u001b[?25h  Created wheel for cybergis-compute-client: filename=cybergis_compute_client-0.0.2-py3-none-any.whl size=22050 sha256=f412eec93a49da94b80c2666eeb6d390e2cf6b56eddf537afddbbe695fc4d694\n",
      "  Stored in directory: /tmp/pip-ephem-wheel-cache-zglb7ffm/wheels/2f/b9/9d/e5ba7765e896eac077e0cb2a5a3e2c9e5eeddf1c7235c240f8\n",
      "Successfully built cybergis-compute-client\n",
      "\u001b[31mERROR: libpysal 4.2.2 requires bs4, which is not installed.\u001b[0m\n",
      "\u001b[31mERROR: tensorflow 2.6.0 has requirement absl-py~=0.10, but you'll have absl-py 0.9.0 which is incompatible.\u001b[0m\n",
      "\u001b[31mERROR: tensorflow 2.6.0 has requirement gast==0.4.0, but you'll have gast 0.3.3 which is incompatible.\u001b[0m\n",
      "\u001b[31mERROR: tensorflow 2.6.0 has requirement grpcio<2.0,>=1.37.0, but you'll have grpcio 1.30.0 which is incompatible.\u001b[0m\n",
      "\u001b[31mERROR: tensorflow 2.6.0 has requirement h5py~=3.1.0, but you'll have h5py 2.10.0 which is incompatible.\u001b[0m\n",
      "\u001b[31mERROR: tensorflow 2.6.0 has requirement keras~=2.6, but you'll have keras 2.2.4 which is incompatible.\u001b[0m\n",
      "\u001b[31mERROR: tensorflow 2.6.0 has requirement numpy~=1.19.2, but you'll have numpy 1.18.1 which is incompatible.\u001b[0m\n",
      "\u001b[31mERROR: tensorflow 2.6.0 has requirement six~=1.15.0, but you'll have six 1.16.0 which is incompatible.\u001b[0m\n",
      "\u001b[31mERROR: tensorflow 2.6.0 has requirement tensorboard~=2.6, but you'll have tensorboard 1.13.1 which is incompatible.\u001b[0m\n",
      "\u001b[31mERROR: tensorflow 2.6.0 has requirement typing-extensions~=3.7.4, but you'll have typing-extensions 4.1.1 which is incompatible.\u001b[0m\n",
      "\u001b[31mERROR: tensorflow 2.6.0 has requirement wheel~=0.35, but you'll have wheel 0.34.2 which is incompatible.\u001b[0m\n",
      "\u001b[31mERROR: rasterio 1.1.5 has requirement click<8,>=4.0, but you'll have click 8.0.3 which is incompatible.\u001b[0m\n",
      "\u001b[31mERROR: fiona 1.8.13 has requirement click<8,>=4.0, but you'll have click 8.0.3 which is incompatible.\u001b[0m\n",
      "\u001b[31mERROR: cligj 0.5.0 has requirement click<8,>=4.0, but you'll have click 8.0.3 which is incompatible.\u001b[0m\n",
      "Installing collected packages: tabulate, ptyprocess, pexpect, traitlets, setuptools, parso, jedi, wcwidth, prompt-toolkit, backcall, executing, six, asttokens, pure-eval, stack-data, decorator, click, pathspec, platformdirs, tomli, typing-extensions, mypy-extensions, black, pickleshare, pygments, matplotlib-inline, ipython, ipython-genutils, nest-asyncio, debugpy, tornado, entrypoints, pyzmq, python-dateutil, jupyter-core, jupyter-client, ipykernel, jupyterlab-widgets, zipp, importlib-resources, attrs, pyrsistent, jsonschema, nbformat, Send2Trash, terminado, prometheus-client, pycparser, cffi, argon2-cffi-bindings, argon2-cffi, MarkupSafe, jinja2, mistune, nbclient, pandocfilters, testpath, defusedxml, jupyterlab-pygments, webencodings, pyparsing, packaging, bleach, nbconvert, notebook, widgetsnbextension, ipywidgets, ipyfilechooser, cybergis-compute-client\n",
      "Successfully installed MarkupSafe-2.0.1 Send2Trash-1.8.0 argon2-cffi-21.3.0 argon2-cffi-bindings-21.2.0 asttokens-2.0.5 attrs-21.4.0 backcall-0.2.0 black-22.1.0 bleach-4.1.0 cffi-1.15.0 click-8.0.3 cybergis-compute-client-0.0.2 debugpy-1.5.1 decorator-5.1.1 defusedxml-0.7.1 entrypoints-0.4 executing-0.8.2 importlib-resources-5.4.0 ipyfilechooser-0.6.0 ipykernel-6.9.0 ipython-8.0.1 ipython-genutils-0.2.0 ipywidgets-7.6.5 jedi-0.18.1 jinja2-3.0.3 jsonschema-4.4.0 jupyter-client-7.1.2 jupyter-core-4.9.1 jupyterlab-pygments-0.1.2 jupyterlab-widgets-1.0.2 matplotlib-inline-0.1.3 mistune-0.8.4 mypy-extensions-0.4.3 nbclient-0.5.10 nbconvert-6.4.2 nbformat-5.1.3 nest-asyncio-1.5.4 notebook-6.4.8 packaging-21.3 pandocfilters-1.5.0 parso-0.8.3 pathspec-0.9.0 pexpect-4.8.0 pickleshare-0.7.5 platformdirs-2.5.0 prometheus-client-0.13.1 prompt-toolkit-3.0.28 ptyprocess-0.7.0 pure-eval-0.2.2 pycparser-2.21 pygments-2.11.2 pyparsing-3.0.7 pyrsistent-0.18.1 python-dateutil-2.8.2 pyzmq-22.3.0 setuptools-60.9.0 six-1.16.0 stack-data-0.1.4 tabulate-0.8.9 terminado-0.13.1 testpath-0.5.0 tomli-2.0.1 tornado-6.1 traitlets-5.1.1 typing-extensions-4.1.1 wcwidth-0.2.5 webencodings-0.5.1 widgetsnbextension-3.5.2 zipp-3.7.0\r\n"
     ]
    }
   ],
   "source": [
    "# Try to load CyberGIS-Compute client\n",
    "# try:\n",
    "#     from cybergis_compute_client import CyberGISCompute\n",
    "# # If not already setup, setup CyberGIS-Compute in the current Jupyter kernel\n",
    "# except:\n",
    "import sys\n",
    "!{sys.executable} -m pip install --ignore-installed git+https://github.com/cybergis/job-supervisor-python-sdk.git@v2"
   ]
  },
  {
   "cell_type": "code",
   "execution_count": 1,
   "metadata": {},
   "outputs": [],
   "source": [
    "from cybergis_compute_client import CyberGISCompute\n",
    "\n",
    "cybergis = CyberGISCompute(url=\"cgjobsup-dev.cigi.illinois.edu\", protocol=\"HTTP\", port=3030, isJupyter=True)"
   ]
  },
  {
   "cell_type": "code",
   "execution_count": 3,
   "metadata": {},
   "outputs": [
    {
     "data": {
      "application/vnd.jupyter.widget-view+json": {
       "model_id": "194776557d144ab781f7f3cadfdb4fc1",
       "version_major": 2,
       "version_minor": 0
      },
      "text/plain": [
       "Tab(children=(Output(), Output(), Output()), _titles={'0': 'Job Configuration', '1': 'Your Job Status', '2': '…"
      ]
     },
     "metadata": {},
     "output_type": "display_data"
    }
   ],
   "source": [
    "cybergis.create_job_by_ui()"
   ]
  },
  {
   "cell_type": "code",
   "execution_count": 2,
   "metadata": {},
   "outputs": [
    {
     "ename": "Exception",
     "evalue": "server cgjobsup-dev.cigi.illinois.edu:3030 responded with error \"invalid input['is not of a type(s) string']\"",
     "output_type": "error",
     "traceback": [
      "\u001b[0;31m---------------------------------------------------------------------------\u001b[0m",
      "\u001b[0;31mException\u001b[0m                                 Traceback (most recent call last)",
      "Input \u001b[0;32mIn [2]\u001b[0m, in \u001b[0;36m<module>\u001b[0;34m\u001b[0m\n\u001b[0;32m----> 1\u001b[0m \u001b[43mcybergis\u001b[49m\u001b[38;5;241;43m.\u001b[39;49m\u001b[43mget_slurm_usage\u001b[49m\u001b[43m(\u001b[49m\u001b[43m)\u001b[49m\n",
      "File \u001b[0;32m~/.local/lib/python3.8/site-packages/cybergis_compute_client/CyberGISCompute.py:98\u001b[0m, in \u001b[0;36mCyberGISCompute.get_slurm_usage\u001b[0;34m(self, raw)\u001b[0m\n\u001b[1;32m     97\u001b[0m \u001b[38;5;28;01mdef\u001b[39;00m \u001b[38;5;21mget_slurm_usage\u001b[39m(\u001b[38;5;28mself\u001b[39m, raw\u001b[38;5;241m=\u001b[39m\u001b[38;5;28;01mFalse\u001b[39;00m):\n\u001b[0;32m---> 98\u001b[0m     usage \u001b[38;5;241m=\u001b[39m \u001b[38;5;28;43mself\u001b[39;49m\u001b[38;5;241;43m.\u001b[39;49m\u001b[43mclient\u001b[49m\u001b[38;5;241;43m.\u001b[39;49m\u001b[43mrequest\u001b[49m\u001b[43m(\u001b[49m\u001b[38;5;124;43m'\u001b[39;49m\u001b[38;5;124;43mGET\u001b[39;49m\u001b[38;5;124;43m'\u001b[39;49m\u001b[43m,\u001b[49m\u001b[43m \u001b[49m\u001b[38;5;124;43m'\u001b[39;49m\u001b[38;5;124;43m/user/slurm-usage\u001b[39;49m\u001b[38;5;124;43m'\u001b[39;49m\u001b[43m,\u001b[49m\u001b[43m \u001b[49m\u001b[43m{\u001b[49m\u001b[43m \u001b[49m\u001b[38;5;124;43m\"\u001b[39;49m\u001b[38;5;124;43mjupyterhubApiToken\u001b[39;49m\u001b[38;5;124;43m\"\u001b[39;49m\u001b[43m:\u001b[49m\u001b[43m \u001b[49m\u001b[38;5;28;43mself\u001b[39;49m\u001b[38;5;241;43m.\u001b[39;49m\u001b[43mjupyterhubApiToken\u001b[49m\u001b[43m \u001b[49m\u001b[43m}\u001b[49m\u001b[43m)\u001b[49m\n\u001b[1;32m     99\u001b[0m     \u001b[38;5;28;01mif\u001b[39;00m raw: \u001b[38;5;28;01mreturn\u001b[39;00m usage\n\u001b[1;32m    100\u001b[0m     display(Markdown(\u001b[38;5;124m\"\u001b[39m\u001b[38;5;124mNodes: \u001b[39m\u001b[38;5;132;01m{}\u001b[39;00m\u001b[38;5;130;01m\\n\u001b[39;00m\u001b[38;5;124mAllocated CPUs: \u001b[39m\u001b[38;5;132;01m{}\u001b[39;00m\u001b[38;5;130;01m\\n\u001b[39;00m\u001b[38;5;124mTotal CPU Time: \u001b[39m\u001b[38;5;132;01m{}\u001b[39;00m\u001b[38;5;130;01m\\n\u001b[39;00m\u001b[38;5;124mMemory Utilized: \u001b[39m\u001b[38;5;132;01m{}\u001b[39;00m\u001b[38;5;130;01m\\n\u001b[39;00m\u001b[38;5;124mTotal Allocated Memory: \u001b[39m\u001b[38;5;132;01m{}\u001b[39;00m\u001b[38;5;130;01m\\n\u001b[39;00m\u001b[38;5;124mTotal Walltime: \u001b[39m\u001b[38;5;132;01m{}\u001b[39;00m\u001b[38;5;124m\"\u001b[39m\u001b[38;5;241m.\u001b[39mformat(\\\n\u001b[1;32m    101\u001b[0m         usage[\u001b[38;5;124m'\u001b[39m\u001b[38;5;124mnodes\u001b[39m\u001b[38;5;124m'\u001b[39m], usage[\u001b[38;5;124m'\u001b[39m\u001b[38;5;124mcpus\u001b[39m\u001b[38;5;124m'\u001b[39m], usage[\u001b[38;5;124m'\u001b[39m\u001b[38;5;124mcpuTime\u001b[39m\u001b[38;5;124m'\u001b[39m], usage[\u001b[38;5;124m'\u001b[39m\u001b[38;5;124mmemory\u001b[39m\u001b[38;5;124m'\u001b[39m], usage[\u001b[38;5;124m'\u001b[39m\u001b[38;5;124mmemoryUsage\u001b[39m\u001b[38;5;124m'\u001b[39m], usage[\u001b[38;5;124m'\u001b[39m\u001b[38;5;124mwalltime\u001b[39m\u001b[38;5;124m'\u001b[39m])))\n",
      "File \u001b[0;32m~/.local/lib/python3.8/site-packages/cybergis_compute_client/Client.py:27\u001b[0m, in \u001b[0;36mClient.request\u001b[0;34m(self, method, uri, body)\u001b[0m\n\u001b[1;32m     25\u001b[0m     \u001b[38;5;28;01mif\u001b[39;00m \u001b[38;5;124m'\u001b[39m\u001b[38;5;124mmessages\u001b[39m\u001b[38;5;124m'\u001b[39m \u001b[38;5;129;01min\u001b[39;00m data:\n\u001b[1;32m     26\u001b[0m         msg \u001b[38;5;241m=\u001b[39m \u001b[38;5;28mstr\u001b[39m(data[\u001b[38;5;124m'\u001b[39m\u001b[38;5;124mmessages\u001b[39m\u001b[38;5;124m'\u001b[39m])\n\u001b[0;32m---> 27\u001b[0m     \u001b[38;5;28;01mraise\u001b[39;00m \u001b[38;5;167;01mException\u001b[39;00m(\u001b[38;5;124m'\u001b[39m\u001b[38;5;124mserver \u001b[39m\u001b[38;5;124m'\u001b[39m \u001b[38;5;241m+\u001b[39m \u001b[38;5;28mself\u001b[39m\u001b[38;5;241m.\u001b[39murl \u001b[38;5;241m+\u001b[39m \u001b[38;5;124m'\u001b[39m\u001b[38;5;124m responded with error \u001b[39m\u001b[38;5;124m\"\u001b[39m\u001b[38;5;124m'\u001b[39m \u001b[38;5;241m+\u001b[39m data[\u001b[38;5;124m'\u001b[39m\u001b[38;5;124merror\u001b[39m\u001b[38;5;124m'\u001b[39m] \u001b[38;5;241m+\u001b[39m msg \u001b[38;5;241m+\u001b[39m \u001b[38;5;124m'\u001b[39m\u001b[38;5;124m\"\u001b[39m\u001b[38;5;124m'\u001b[39m)\n\u001b[1;32m     29\u001b[0m \u001b[38;5;28;01mreturn\u001b[39;00m data\n",
      "\u001b[0;31mException\u001b[0m: server cgjobsup-dev.cigi.illinois.edu:3030 responded with error \"invalid input['is not of a type(s) string']\""
     ]
    }
   ],
   "source": [
    "cybergis.get_slurm_usage()"
   ]
  },
  {
   "cell_type": "code",
   "execution_count": null,
   "metadata": {},
   "outputs": [],
   "source": []
  }
 ],
 "metadata": {
  "interpreter": {
   "hash": "5926609cd90a2d94a42e09238288e2cffb196a8e75506a864a3e89f4f0cb4116"
  },
  "kernelspec": {
   "display_name": "Python 3",
   "language": "python",
   "name": "python3"
  },
  "language_info": {
   "codemirror_mode": {
    "name": "ipython",
    "version": 3
   },
   "file_extension": ".py",
   "mimetype": "text/x-python",
   "name": "python",
   "nbconvert_exporter": "python",
   "pygments_lexer": "ipython3",
   "version": "3.8.5"
  }
 },
 "nbformat": 4,
 "nbformat_minor": 2
}
