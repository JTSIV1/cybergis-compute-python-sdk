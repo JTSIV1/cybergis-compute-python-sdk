{
 "cells": [
  {
   "cell_type": "code",
   "execution_count": 1,
   "source": [
    "from cybergis_compute_client import CyberGISCompute\n",
    "\n",
    "cybergis = CyberGISCompute(url=\"cgjobsup-dev.cigi.illinois.edu\", port=3030, protocol='HTTP', isJupyter=True)"
   ],
   "outputs": [
    {
     "output_type": "display_data",
     "data": {
      "application/javascript": "IPython.notebook.kernel.execute(`CyberGISCompute.cybergis_compute_jupyter_host = \"${window.location.host}\"`);",
      "text/plain": [
       "<IPython.core.display.Javascript object>"
      ]
     },
     "metadata": {}
    }
   ],
   "metadata": {}
  },
  {
   "cell_type": "code",
   "execution_count": 4,
   "source": [
    "cybergis.list_hpc()"
   ],
   "outputs": [],
   "metadata": {}
  },
  {
   "cell_type": "code",
   "execution_count": 3,
   "source": [
    "cybergis.list_maintainer()"
   ],
   "outputs": [
    {
     "output_type": "display_data",
     "data": {
      "text/html": [
       "<table>\n",
       "<thead>\n",
       "<tr><th style=\"text-align:left\">maintainer             </th><th style=\"text-align:left\">hpc                                       </th><th style=\"text-align:left\">default_hpc      </th><th style=\"text-align:left\">job_pool_capacity  </th><th style=\"text-align:left\">executable_folder-&gt;from_user  </th><th style=\"text-align:left\">executable_folder-&gt;must_have  </th></tr>\n",
       "</thead>\n",
       "<tbody>\n",
       "<tr><td style=\"text-align:left\">hello_world_singularity</td><td style=\"text-align:left\">[&#x27;keeling_community&#x27;]                     </td><td style=\"text-align:left\">keeling_community</td><td style=\"text-align:left\">5                  </td><td style=\"text-align:left\">False                         </td><td style=\"text-align:left\">not specified                 </td></tr>\n",
       "<tr><td style=\"text-align:left\">community_contribution </td><td style=\"text-align:left\">[&#x27;keeling_community&#x27;, &#x27;bridges_community&#x27;]</td><td style=\"text-align:left\">keeling_community</td><td style=\"text-align:left\">5                  </td><td style=\"text-align:left\">True                          </td><td style=\"text-align:left\">not specified                 </td></tr>\n",
       "</tbody>\n",
       "</table>"
      ],
      "text/plain": [
       "<IPython.core.display.HTML object>"
      ]
     },
     "metadata": {}
    }
   ],
   "metadata": {}
  },
  {
   "cell_type": "code",
   "execution_count": 4,
   "source": [
    "cybergis.list_container()"
   ],
   "outputs": [
    {
     "output_type": "display_data",
     "data": {
      "text/html": [
       "<table>\n",
       "<thead>\n",
       "<tr><th style=\"text-align:left\">container name  </th><th style=\"text-align:left\">dockerfile  </th><th style=\"text-align:left\">dockerhub  </th></tr>\n",
       "</thead>\n",
       "<tbody>\n",
       "<tr><td style=\"text-align:left\">python          </td><td style=\"text-align:left\">            </td><td style=\"text-align:left\">           </td></tr>\n",
       "<tr><td style=\"text-align:left\">cybergisx-0.4   </td><td style=\"text-align:left\">            </td><td style=\"text-align:left\">           </td></tr>\n",
       "</tbody>\n",
       "</table>"
      ],
      "text/plain": [
       "<IPython.core.display.HTML object>"
      ]
     },
     "metadata": {}
    }
   ],
   "metadata": {}
  },
  {
   "cell_type": "code",
   "execution_count": 12,
   "source": [
    "cybergis.list_git()"
   ],
   "outputs": [
    {
     "output_type": "display_data",
     "data": {
      "text/html": [
       "<table>\n",
       "<thead>\n",
       "<tr><th style=\"text-align:left\">link                         </th><th style=\"text-align:left\">name                          </th><th style=\"text-align:left\">container    </th><th style=\"text-align:left\">repository                                                              </th><th style=\"text-align:left\">commit  </th></tr>\n",
       "</thead>\n",
       "<tbody>\n",
       "<tr><td style=\"text-align:left\">git://spatial_access_covid-19</td><td style=\"text-align:left\">COVID-19 spatial accessibility</td><td style=\"text-align:left\">cybergisx-0.4</td><td style=\"text-align:left\">https://github.com/cybergis/cybergis-compute-spatial-access-covid-19.git</td><td style=\"text-align:left\">        </td></tr>\n",
       "<tr><td style=\"text-align:left\">git://hello_world            </td><td style=\"text-align:left\">hello world                   </td><td style=\"text-align:left\">python       </td><td style=\"text-align:left\">https://github.com/cybergis/cybergis-compute-hello-world.git            </td><td style=\"text-align:left\">        </td></tr>\n",
       "<tr><td style=\"text-align:left\">git://fireabm                </td><td style=\"text-align:left\">hello FireABM                 </td><td style=\"text-align:left\">cybergisx-0.4</td><td style=\"text-align:left\">https://github.com/cybergis/cybergis-compute-fireabm.git                </td><td style=\"text-align:left\">        </td></tr>\n",
       "<tr><td style=\"text-align:left\">git://bridge_hello_world     </td><td style=\"text-align:left\">hello world                   </td><td style=\"text-align:left\">python       </td><td style=\"text-align:left\">https://github.com/cybergis/CyberGIS-Compute-Bridges-2.git              </td><td style=\"text-align:left\">        </td></tr>\n",
       "</tbody>\n",
       "</table>"
      ],
      "text/plain": [
       "<IPython.core.display.HTML object>"
      ]
     },
     "metadata": {}
    }
   ],
   "metadata": {}
  },
  {
   "cell_type": "code",
   "execution_count": 5,
   "source": [
    "demo_job = cybergis.create_job('community_contribution', hpc='keeling_community')"
   ],
   "outputs": [
    {
     "output_type": "stream",
     "name": "stdout",
     "text": [
      "📃 created constructor file [job_constructor_1630394070U33Am.json]\n"
     ]
    }
   ],
   "metadata": {}
  },
  {
   "cell_type": "code",
   "execution_count": 6,
   "source": [
    "# all parameters are optional\n",
    "# slurm = {\n",
    "#    walltime?: string -> --time\n",
    "#    num_of_node?: number -> --nodes\n",
    "#    num_of_task?: number -> --ntasks\n",
    "#    cpu_per_task?: number -> --cpus-per-task\n",
    "#    memory?: string -> --mem\n",
    "#    memory_per_cpu?: string -> --mem-per-cpu\n",
    "#    memory_per_gpu?: string -> --mem-per-gpu\n",
    "#    gpus?: number -> --gpus\n",
    "#    gpus_per_node?: number | string -> --gpus-per-node\n",
    "#    gpus_per_socket?: number | string -> --gpus-per-socket\n",
    "#    gpus_per_task?: number | string -> --gpus-per-task\n",
    "#    partition?: string -> --partition\n",
    "#    mail_type?: string[] -> --mail-type\n",
    "#    mail_user?: string[] -> --mail-user\n",
    "#    modules?: string[] -> module load [module_name]\n",
    "# }\n",
    "\n",
    "slurm = {\n",
    "    \"num_of_task\": 5,\n",
    "    \"walltime\": \"1:00\",\n",
    "    \"mail_type\": [\"END\", \"FAIL\"],\n",
    "    \"mail_user\": [\"zimox2@illinois.edu\"],\n",
    "    \"modules\": [\"GPU\"]\n",
    "}\n",
    "\n",
    "demo_job.set(executableFolder=\"git://hello_world\", resultFolder=\"globus://edafe056-05b2-11ec-ab86-f9f234773e04:/c\", param={\"a\": \"b\"}, slurm=slurm)"
   ],
   "outputs": [
    {
     "output_type": "stream",
     "name": "stdout",
     "text": [
      "{'param': {'a': 'b'}, 'env': {}, 'slurm': {'num_of_task': 5, 'walltime': '1:00', 'mail_type': ['END', 'FAIL'], 'mail_user': ['zimox2@illinois.edu'], 'modules': ['GPU']}, 'executableFolder': 'git://hello_world', 'resultFolder': 'globus://edafe056-05b2-11ec-ab86-f9f234773e04:/c'}\n"
     ]
    }
   ],
   "metadata": {}
  },
  {
   "cell_type": "code",
   "execution_count": 7,
   "source": [
    "demo_job.submit()"
   ],
   "outputs": [
    {
     "output_type": "stream",
     "name": "stdout",
     "text": [
      "✅ job submitted\n"
     ]
    },
    {
     "output_type": "display_data",
     "data": {
      "text/html": [
       "<table>\n",
       "<thead>\n",
       "<tr><th style=\"text-align:left\">id             </th><th style=\"text-align:left\">maintainer            </th><th style=\"text-align:left\">hpc              </th><th style=\"text-align:left\">executableFolder  </th><th style=\"text-align:left\">dataFolder  </th><th style=\"text-align:left\">resultFolder                                    </th><th style=\"text-align:left\">param     </th><th style=\"text-align:left\">slurm                                                                                                                         </th><th style=\"text-align:left\">createdAt               </th></tr>\n",
       "</thead>\n",
       "<tbody>\n",
       "<tr><td style=\"text-align:left\">1630394070U33Am</td><td style=\"text-align:left\">community_contribution</td><td style=\"text-align:left\">keeling_community</td><td style=\"text-align:left\">git://hello_world </td><td style=\"text-align:left\">            </td><td style=\"text-align:left\">globus://edafe056-05b2-11ec-ab86-f9f234773e04:/c</td><td style=\"text-align:left\">{&quot;a&quot;: &quot;b&quot;}</td><td style=\"text-align:left\">{&quot;num_of_task&quot;: 5, &quot;walltime&quot;: &quot;1:00&quot;, &quot;mail_type&quot;: [&quot;END&quot;, &quot;FAIL&quot;], &quot;mail_user&quot;: [&quot;zimox2@illinois.edu&quot;], &quot;modules&quot;: [&quot;GPU&quot;]}</td><td style=\"text-align:left\">2021-08-31T02:14:30.000Z</td></tr>\n",
       "</tbody>\n",
       "</table>"
      ],
      "text/plain": [
       "<IPython.core.display.HTML object>"
      ]
     },
     "metadata": {}
    },
    {
     "output_type": "execute_result",
     "data": {
      "text/plain": [
       "<cybergis_compute_client.Job.Job at 0x7ff4514af390>"
      ]
     },
     "metadata": {},
     "execution_count": 7
    }
   ],
   "metadata": {
    "tags": []
   }
  },
  {
   "cell_type": "code",
   "execution_count": 8,
   "source": [
    "demo_job.events(liveOutput=True, refreshRateInSeconds=5)"
   ],
   "outputs": [
    {
     "output_type": "stream",
     "name": "stdout",
     "text": [
      "📮 Job ID: 1630394070U33Am\n",
      "💻 HPC: keeling_community\n",
      "🤖 Maintainer: community_contribution\n"
     ]
    },
    {
     "output_type": "display_data",
     "data": {
      "text/html": [
       "<table>\n",
       "<thead>\n",
       "<tr><th>types             </th><th>message                                                                                                                                                 </th><th>time                    </th></tr>\n",
       "</thead>\n",
       "<tbody>\n",
       "<tr><td>JOB_QUEUED        </td><td>job [1630394070U33Am] is queued, waiting for registration                                                                                               </td><td>2021-08-31T02:15:15.000Z</td></tr>\n",
       "<tr><td>JOB_REGISTERED    </td><td>job [1630394070U33Am] is registered with the supervisor, waiting for initialization                                                                     </td><td>2021-08-31T02:15:18.000Z</td></tr>\n",
       "<tr><td>SSH_UNZIP         </td><td>unzipping /data/keeling/a/cigi-gisolve/scratch/dev/1630394070U33Am/executable.zip to /data/keeling/a/cigi-gisolve/scratch/dev/1630394070U33Am/executable</td><td>2021-08-31T02:15:23.000Z</td></tr>\n",
       "<tr><td>SLURM_UPLOAD      </td><td>uploading files                                                                                                                                         </td><td>2021-08-31T02:15:23.000Z</td></tr>\n",
       "<tr><td>SSH_RM            </td><td>removing /data/keeling/a/cigi-gisolve/scratch/dev/1630394070U33Am/executable.zip                                                                        </td><td>2021-08-31T02:15:23.000Z</td></tr>\n",
       "<tr><td>SLURM_SUBMIT      </td><td>submitting slurm job                                                                                                                                    </td><td>2021-08-31T02:15:23.000Z</td></tr>\n",
       "<tr><td>SSH_CREATE_FILE   </td><td>create file to /data/keeling/a/cigi-gisolve/scratch/dev/1630394070U33Am/executable/job.json                                                             </td><td>2021-08-31T02:15:23.000Z</td></tr>\n",
       "<tr><td>SLURM_MKDIR_RESULT</td><td>creating result folder                                                                                                                                  </td><td>2021-08-31T02:15:23.000Z</td></tr>\n",
       "<tr><td>JOB_INIT          </td><td>job [1630394070U33Am] is initialized, waiting for job completion                                                                                        </td><td>2021-08-31T02:15:23.000Z</td></tr>\n",
       "<tr><td>JOB_ENDED         </td><td>job [1630394070U33Am] finished                                                                                                                          </td><td>2021-08-31T02:15:27.000Z</td></tr>\n",
       "</tbody>\n",
       "</table>"
      ],
      "text/plain": [
       "<IPython.core.display.HTML object>"
      ]
     },
     "metadata": {}
    }
   ],
   "metadata": {
    "tags": []
   }
  },
  {
   "cell_type": "code",
   "execution_count": null,
   "source": [
    "demo_job.logs(liveOutput=True)"
   ],
   "outputs": [],
   "metadata": {
    "tags": []
   }
  },
  {
   "cell_type": "code",
   "execution_count": 9,
   "source": [
    "demo_job.downloadResultFolder('./')"
   ],
   "outputs": [
    {
     "output_type": "execute_result",
     "data": {
      "text/plain": [
       "{'message': 'Globus transfer task start with task_id 3fe4c4d0-0a2b-11ec-ae2b-6b098c7117de'}"
      ]
     },
     "metadata": {},
     "execution_count": 9
    }
   ],
   "metadata": {}
  },
  {
   "cell_type": "code",
   "execution_count": 13,
   "source": [
    "demo_job.queryGlobusTaskStatus()"
   ],
   "outputs": [
    {
     "output_type": "execute_result",
     "data": {
      "text/plain": [
       "{'3fe4c4d0-0a2b-11ec-ae2b-6b098c7117de': 'SUCCEEDED'}"
      ]
     },
     "metadata": {},
     "execution_count": 13
    }
   ],
   "metadata": {}
  }
 ],
 "metadata": {
  "interpreter": {
   "hash": "5926609cd90a2d94a42e09238288e2cffb196a8e75506a864a3e89f4f0cb4116"
  },
  "kernelspec": {
   "name": "python3",
   "display_name": "Python 3.7.7 64-bit ('base': conda)"
  },
  "language_info": {
   "codemirror_mode": {
    "name": "ipython",
    "version": 3
   },
   "file_extension": ".py",
   "mimetype": "text/x-python",
   "name": "python",
   "nbconvert_exporter": "python",
   "pygments_lexer": "ipython3",
   "version": "3.7.7"
  }
 },
 "nbformat": 4,
 "nbformat_minor": 2
}