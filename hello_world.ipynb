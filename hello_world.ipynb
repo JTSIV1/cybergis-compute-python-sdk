{
 "cells": [
  {
   "cell_type": "code",
   "execution_count": 1,
   "metadata": {
    "tags": []
   },
   "outputs": [],
   "source": [
    "from cybergis_compute_client import CyberGISCompute\n",
    "\n",
    "cybergis = CyberGISCompute(url=\"cgjobsup-dev.cigi.illinois.edu\", port=3030, protocol='HTTP', isJupyter=True)"
   ]
  },
  {
   "cell_type": "code",
   "execution_count": 2,
   "metadata": {},
   "outputs": [
    {
     "data": {
      "text/html": [
       "<table>\n",
       "<thead>\n",
       "<tr><th style=\"text-align:left\">hpc              </th><th style=\"text-align:left\">ip                        </th><th style=\"text-align:left\">port  </th><th style=\"text-align:left\">is_community_account  </th></tr>\n",
       "</thead>\n",
       "<tbody>\n",
       "<tr><td style=\"text-align:left\">keeling_community</td><td style=\"text-align:left\">keeling.earth.illinois.edu</td><td style=\"text-align:left\">22    </td><td style=\"text-align:left\">True                  </td></tr>\n",
       "<tr><td style=\"text-align:left\">hadoop           </td><td style=\"text-align:left\">hadoop01.cigi.illinois.edu</td><td style=\"text-align:left\">50022 </td><td style=\"text-align:left\">False                 </td></tr>\n",
       "</tbody>\n",
       "</table>"
      ],
      "text/plain": [
       "<IPython.core.display.HTML object>"
      ]
     },
     "metadata": {},
     "output_type": "display_data"
    }
   ],
   "source": [
    "cybergis.list_hpc()"
   ]
  },
  {
   "cell_type": "code",
   "execution_count": 3,
   "metadata": {},
   "outputs": [
    {
     "data": {
      "text/html": [
       "<table>\n",
       "<thead>\n",
       "<tr><th style=\"text-align:left\">maintainer             </th><th style=\"text-align:left\">hpc                  </th><th style=\"text-align:left\">default_hpc      </th><th style=\"text-align:left\">job_pool_capacity  </th><th style=\"text-align:left\">executable_folder-&gt;from_user  </th><th style=\"text-align:left\">executable_folder-&gt;must_have                                                     </th></tr>\n",
       "</thead>\n",
       "<tbody>\n",
       "<tr><td style=\"text-align:left\">SUMMA                  </td><td style=\"text-align:left\">[&#x27;keeling_community&#x27;]</td><td style=\"text-align:left\">keeling_community</td><td style=\"text-align:left\">5                  </td><td style=\"text-align:left\">True                          </td><td style=\"text-align:left\">[&#x27;summa_options.json&#x27;, &#x27;installTestCases_local.sh&#x27;, &#x27;data&#x27;, &#x27;output&#x27;, &#x27;settings&#x27;]</td></tr>\n",
       "<tr><td style=\"text-align:left\">hello_world_singularity</td><td style=\"text-align:left\">[&#x27;keeling_community&#x27;]</td><td style=\"text-align:left\">keeling_community</td><td style=\"text-align:left\">5                  </td><td style=\"text-align:left\">False                         </td><td style=\"text-align:left\">not specified                                                                    </td></tr>\n",
       "<tr><td style=\"text-align:left\">community_contribution </td><td style=\"text-align:left\">[&#x27;keeling_community&#x27;]</td><td style=\"text-align:left\">keeling_community</td><td style=\"text-align:left\">5                  </td><td style=\"text-align:left\">True                          </td><td style=\"text-align:left\">not specified                                                                    </td></tr>\n",
       "<tr><td style=\"text-align:left\">spatial_access         </td><td style=\"text-align:left\">[&#x27;keeling_community&#x27;]</td><td style=\"text-align:left\">keeling_community</td><td style=\"text-align:left\">5                  </td><td style=\"text-align:left\">False                         </td><td style=\"text-align:left\">not specified                                                                    </td></tr>\n",
       "</tbody>\n",
       "</table>"
      ],
      "text/plain": [
       "<IPython.core.display.HTML object>"
      ]
     },
     "metadata": {},
     "output_type": "display_data"
    }
   ],
   "source": [
    "cybergis.list_maintainer()"
   ]
  },
  {
   "cell_type": "code",
   "execution_count": 4,
   "metadata": {},
   "outputs": [
    {
     "data": {
      "text/html": [
       "<table>\n",
       "<thead>\n",
       "<tr><th style=\"text-align:left\">link                         </th><th style=\"text-align:left\">name                          </th><th style=\"text-align:left\">container  </th><th style=\"text-align:left\">repository                                                                      </th><th style=\"text-align:left\">commit                                  </th></tr>\n",
       "</thead>\n",
       "<tbody>\n",
       "<tr><td style=\"text-align:left\">git://hello_world            </td><td style=\"text-align:left\">hello world                   </td><td style=\"text-align:left\">python     </td><td style=\"text-align:left\">https://github.com/cybergis/cybergis-compute-hello-world.git                    </td><td style=\"text-align:left\">NONE                                    </td></tr>\n",
       "<tr><td style=\"text-align:left\">git://bridge_hello_world     </td><td style=\"text-align:left\">hello world                   </td><td style=\"text-align:left\">python     </td><td style=\"text-align:left\">https://github.com/cybergis/CyberGIS-Compute-Bridges-2.git                      </td><td style=\"text-align:left\">NONE                                    </td></tr>\n",
       "<tr><td style=\"text-align:left\">git://spatial_access_covid-19</td><td style=\"text-align:left\">COVID-19 spatial accessibility</td><td style=\"text-align:left\">python     </td><td style=\"text-align:left\">https://github.com/alexandermichels/cybergis-compute-spatial-access-covid-19.git</td><td style=\"text-align:left\">e005e1eea14b68d7756aa127d4a367a8af4bd7ad</td></tr>\n",
       "</tbody>\n",
       "</table>"
      ],
      "text/plain": [
       "<IPython.core.display.HTML object>"
      ]
     },
     "metadata": {},
     "output_type": "display_data"
    }
   ],
   "source": [
    "cybergis.list_git()"
   ]
  },
  {
   "cell_type": "code",
   "execution_count": 5,
   "metadata": {},
   "outputs": [
    {
     "name": "stdout",
     "output_type": "stream",
     "text": [
      "📃 created constructor file [job_constructor_1625734898HdHgh.json]\n"
     ]
    }
   ],
   "source": [
    "demo_job = cybergis.create_job('community_contribution')"
   ]
  },
  {
   "cell_type": "code",
   "execution_count": 6,
   "metadata": {},
   "outputs": [
    {
     "name": "stdout",
     "output_type": "stream",
     "text": [
      "{'param': {'a': 'a'}, 'env': {}, 'slurm': {}, 'executableFolder': 'git://hello_world'}\n"
     ]
    }
   ],
   "source": [
    "demo_job.set(executableFolder=\"git://hello_world\", param={\n",
    "    \"a\": \"a\"\n",
    "})"
   ]
  },
  {
   "cell_type": "code",
   "execution_count": 7,
   "metadata": {
    "tags": []
   },
   "outputs": [
    {
     "name": "stdout",
     "output_type": "stream",
     "text": [
      "✅ job submitted\n"
     ]
    },
    {
     "data": {
      "text/plain": [
       "<cybergis_compute_client.Job.Job at 0x7fd4957c2390>"
      ]
     },
     "execution_count": 7,
     "metadata": {},
     "output_type": "execute_result"
    }
   ],
   "source": [
    "demo_job.submit()"
   ]
  },
  {
   "cell_type": "code",
   "execution_count": 8,
   "metadata": {
    "tags": []
   },
   "outputs": [
    {
     "name": "stdout",
     "output_type": "stream",
     "text": [
      "📮 Job ID: 1625734898HdHgh\n",
      "💻 HPC: keeling_community\n",
      "🤖 Maintainer: community_contribution\n"
     ]
    },
    {
     "data": {
      "text/html": [
       "<table>\n",
       "<thead>\n",
       "<tr><th>types             </th><th>message                                                                                                                                                 </th><th>time                    </th></tr>\n",
       "</thead>\n",
       "<tbody>\n",
       "<tr><td>JOB_QUEUED        </td><td>job [1625734898HdHgh] is queued, waiting for registration                                                                                               </td><td>2021-07-08T09:02:01.000Z</td></tr>\n",
       "<tr><td>JOB_REGISTERED    </td><td>job [1625734898HdHgh] is registered with the supervisor, waiting for initialization                                                                     </td><td>2021-07-08T09:02:07.000Z</td></tr>\n",
       "<tr><td>SSH_UNZIP         </td><td>unzipping /data/keeling/a/cigi-gisolve/scratch/dev/1625734898HdHgh/executable.zip to /data/keeling/a/cigi-gisolve/scratch/dev/1625734898HdHgh/executable</td><td>2021-07-08T09:02:13.000Z</td></tr>\n",
       "<tr><td>SLURM_UPLOAD      </td><td>uploading files                                                                                                                                         </td><td>2021-07-08T09:02:13.000Z</td></tr>\n",
       "<tr><td>SSH_RM            </td><td>removing /data/keeling/a/cigi-gisolve/scratch/dev/1625734898HdHgh/executable.zip                                                                        </td><td>2021-07-08T09:02:13.000Z</td></tr>\n",
       "<tr><td>SLURM_MKDIR_RESULT</td><td>creating result folder                                                                                                                                  </td><td>2021-07-08T09:02:15.000Z</td></tr>\n",
       "<tr><td>SSH_CREATE_FILE   </td><td>create file to /data/keeling/a/cigi-gisolve/scratch/dev/1625734898HdHgh/executable/job.json                                                             </td><td>2021-07-08T09:02:15.000Z</td></tr>\n",
       "<tr><td>SLURM_SUBMIT      </td><td>submitting slurm job                                                                                                                                    </td><td>2021-07-08T09:02:15.000Z</td></tr>\n",
       "<tr><td>JOB_INIT          </td><td>job [1625734898HdHgh] is initialized, waiting for job completion                                                                                        </td><td>2021-07-08T09:02:16.000Z</td></tr>\n",
       "<tr><td>SSH_RM            </td><td>removing /data/keeling/a/cigi-gisolve/scratch/dev/1625734898HdHgh/result.zip                                                                            </td><td>2021-07-08T09:02:19.000Z</td></tr>\n",
       "<tr><td>SSH_ZIP           </td><td>zipping /data/keeling/a/cigi-gisolve/scratch/dev/1625734898HdHgh/result to /data/keeling/a/cigi-gisolve/scratch/dev/1625734898HdHgh/result.zip          </td><td>2021-07-08T09:02:19.000Z</td></tr>\n",
       "<tr><td>SSH_SCP_DOWNLOAD  </td><td>get file from /data/keeling/a/cigi-gisolve/scratch/dev/1625734898HdHgh/result to /job_supervisor/data/root/1625734924Kq51                               </td><td>2021-07-08T09:02:19.000Z</td></tr>\n",
       "<tr><td>JOB_ENDED         </td><td>job [1625734898HdHgh] finished                                                                                                                          </td><td>2021-07-08T09:02:22.000Z</td></tr>\n",
       "</tbody>\n",
       "</table>"
      ],
      "text/plain": [
       "<IPython.core.display.HTML object>"
      ]
     },
     "metadata": {},
     "output_type": "display_data"
    }
   ],
   "source": [
    "demo_job.events(liveOutput=True)"
   ]
  },
  {
   "cell_type": "code",
   "execution_count": 9,
   "metadata": {
    "tags": []
   },
   "outputs": [
    {
     "name": "stdout",
     "output_type": "stream",
     "text": [
      "📮 Job ID: 1625734898HdHgh\n",
      "💻 HPC: keeling_community\n",
      "🤖 Maintainer: community_contribution\n"
     ]
    },
    {
     "data": {
      "text/html": [
       "<table>\n",
       "<thead>\n",
       "<tr><th>message  </th><th>time                    </th></tr>\n",
       "</thead>\n",
       "<tbody>\n",
       "<tr><td style='text-align:left'>running setup...\n",
       "running main...\n",
       "running cleanup...          </td><td style='text-align:left'>2021-07-08T09:02:19.000Z</td></tr>\n",
       "</tbody>\n",
       "</table>"
      ],
      "text/plain": [
       "<IPython.core.display.HTML object>"
      ]
     },
     "metadata": {},
     "output_type": "display_data"
    }
   ],
   "source": [
    "demo_job.logs(liveOutput=True)"
   ]
  },
  {
   "cell_type": "code",
   "execution_count": 10,
   "metadata": {},
   "outputs": [
    {
     "name": "stdout",
     "output_type": "stream",
     "text": [
      "file successfully downloaded under: ./1625734898HdHgh.zip\n"
     ]
    },
    {
     "data": {
      "text/plain": [
       "'./1625734898HdHgh.zip'"
      ]
     },
     "execution_count": 10,
     "metadata": {},
     "output_type": "execute_result"
    }
   ],
   "source": [
    "demo_job.downloadResultFolder('./')"
   ]
  }
 ],
 "metadata": {
  "interpreter": {
   "hash": "5926609cd90a2d94a42e09238288e2cffb196a8e75506a864a3e89f4f0cb4116"
  },
  "kernelspec": {
   "display_name": "Python 3.7.7 64-bit ('base': conda)",
   "name": "python3"
  },
  "language_info": {
   "codemirror_mode": {
    "name": "ipython",
    "version": 3
   },
   "file_extension": ".py",
   "mimetype": "text/x-python",
   "name": "python",
   "nbconvert_exporter": "python",
   "pygments_lexer": "ipython3",
   "version": "3.7.7"
  }
 },
 "nbformat": 4,
 "nbformat_minor": 2
}