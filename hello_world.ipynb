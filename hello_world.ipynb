{
 "cells": [
  {
   "cell_type": "code",
   "execution_count": 1,
   "source": [
    "from cybergis_compute_client import CyberGISCompute\n",
    "\n",
    "cybergis = CyberGISCompute(url=\"cgjobsup-dev.cigi.illinois.edu\", port=3030, protocol='HTTP', isJupyter=True)"
   ],
   "outputs": [],
   "metadata": {
    "tags": []
   }
  },
  {
   "cell_type": "code",
   "execution_count": 2,
   "source": [
    "cybergis.list_hpc()"
   ],
   "outputs": [
    {
     "output_type": "display_data",
     "data": {
      "text/plain": [
       "<IPython.core.display.HTML object>"
      ],
      "text/html": [
       "<table>\n",
       "<thead>\n",
       "<tr><th style=\"text-align:left\">hpc              </th><th style=\"text-align:left\">ip                        </th><th style=\"text-align:left\">port  </th><th style=\"text-align:left\">is_community_account  </th></tr>\n",
       "</thead>\n",
       "<tbody>\n",
       "<tr><td style=\"text-align:left\">keeling_community</td><td style=\"text-align:left\">keeling.earth.illinois.edu</td><td style=\"text-align:left\">22    </td><td style=\"text-align:left\">True                  </td></tr>\n",
       "<tr><td style=\"text-align:left\">bridges_community</td><td style=\"text-align:left\">bridges2.psc.edu          </td><td style=\"text-align:left\">22    </td><td style=\"text-align:left\">True                  </td></tr>\n",
       "<tr><td style=\"text-align:left\">hadoop           </td><td style=\"text-align:left\">hadoop01.cigi.illinois.edu</td><td style=\"text-align:left\">50022 </td><td style=\"text-align:left\">False                 </td></tr>\n",
       "</tbody>\n",
       "</table>"
      ]
     },
     "metadata": {}
    }
   ],
   "metadata": {}
  },
  {
   "cell_type": "code",
   "execution_count": 3,
   "source": [
    "cybergis.list_maintainer()"
   ],
   "outputs": [
    {
     "output_type": "display_data",
     "data": {
      "text/plain": [
       "<IPython.core.display.HTML object>"
      ],
      "text/html": [
       "<table>\n",
       "<thead>\n",
       "<tr><th style=\"text-align:left\">maintainer             </th><th style=\"text-align:left\">hpc                                       </th><th style=\"text-align:left\">default_hpc      </th><th style=\"text-align:left\">job_pool_capacity  </th><th style=\"text-align:left\">executable_folder-&gt;from_user  </th><th style=\"text-align:left\">executable_folder-&gt;must_have                                                     </th></tr>\n",
       "</thead>\n",
       "<tbody>\n",
       "<tr><td style=\"text-align:left\">SUMMA                  </td><td style=\"text-align:left\">[&#x27;keeling_community&#x27;]                     </td><td style=\"text-align:left\">keeling_community</td><td style=\"text-align:left\">5                  </td><td style=\"text-align:left\">True                          </td><td style=\"text-align:left\">[&#x27;summa_options.json&#x27;, &#x27;installTestCases_local.sh&#x27;, &#x27;data&#x27;, &#x27;output&#x27;, &#x27;settings&#x27;]</td></tr>\n",
       "<tr><td style=\"text-align:left\">hello_world_singularity</td><td style=\"text-align:left\">[&#x27;keeling_community&#x27;]                     </td><td style=\"text-align:left\">keeling_community</td><td style=\"text-align:left\">5                  </td><td style=\"text-align:left\">False                         </td><td style=\"text-align:left\">not specified                                                                    </td></tr>\n",
       "<tr><td style=\"text-align:left\">community_contribution </td><td style=\"text-align:left\">[&#x27;keeling_community&#x27;, &#x27;bridges_community&#x27;]</td><td style=\"text-align:left\">keeling_community</td><td style=\"text-align:left\">5                  </td><td style=\"text-align:left\">True                          </td><td style=\"text-align:left\">not specified                                                                    </td></tr>\n",
       "<tr><td style=\"text-align:left\">spatial_access         </td><td style=\"text-align:left\">[&#x27;keeling_community&#x27;]                     </td><td style=\"text-align:left\">keeling_community</td><td style=\"text-align:left\">5                  </td><td style=\"text-align:left\">False                         </td><td style=\"text-align:left\">not specified                                                                    </td></tr>\n",
       "</tbody>\n",
       "</table>"
      ]
     },
     "metadata": {}
    }
   ],
   "metadata": {}
  },
  {
   "cell_type": "code",
   "execution_count": 4,
   "source": [
    "cybergis.list_git()"
   ],
   "outputs": [],
   "metadata": {}
  },
  {
   "cell_type": "code",
   "execution_count": null,
   "source": [
    "demo_job = cybergis.create_job('community_contribution', hpc='keeling_community')"
   ],
   "outputs": [],
   "metadata": {}
  },
  {
   "cell_type": "code",
   "execution_count": null,
   "source": [
    "# all parameters are optional\n",
    "# slurm = {\n",
    "#    walltime?: string -> --time\n",
    "#    num_of_node?: number -> --nodes\n",
    "#    num_of_task?: number -> --ntasks\n",
    "#    cpu_per_task?: number -> --cpus-per-task\n",
    "#    memory?: string -> --mem\n",
    "#    memory_per_cpu?: string -> --mem-per-cpu\n",
    "#    memory_per_gpu?: string -> --mem-per-gpu\n",
    "#    gpus?: number -> --gpus\n",
    "#    gpus_per_node?: number | string -> --gpus-per-node\n",
    "#    gpus_per_socket?: number | string -> --gpus-per-socket\n",
    "#    gpus_per_task?: number | string -> --gpus-per-task\n",
    "#    partition?: string -> --partition\n",
    "#    mail_type?: string[] -> --mail-type\n",
    "#    mail_user?: string[] -> --mail-user\n",
    "# }\n",
    "\n",
    "slurm = {\n",
    "    \"num_of_task\": 5,\n",
    "    \"walltime\": \"1:00\",\n",
    "    \"mail_type\": [\"END\", \"FAIL\"],\n",
    "    \"mail_user\": [\"zimox2@illinois.edu\"]\n",
    "}\n",
    "\n",
    "demo_job.set(executableFolder=\"git://hello_world\", param={\"key_a\": \"val_a\"}, slurm=slurm)"
   ],
   "outputs": [],
   "metadata": {}
  },
  {
   "cell_type": "code",
   "execution_count": null,
   "source": [
    "demo_job.submit()"
   ],
   "outputs": [],
   "metadata": {
    "tags": []
   }
  },
  {
   "cell_type": "code",
   "execution_count": null,
   "source": [
    "demo_job.events(liveOutput=True, refreshRateInSeconds=5)"
   ],
   "outputs": [],
   "metadata": {
    "tags": []
   }
  },
  {
   "cell_type": "code",
   "execution_count": null,
   "source": [
    "demo_job.logs(liveOutput=True)"
   ],
   "outputs": [],
   "metadata": {
    "tags": []
   }
  },
  {
   "cell_type": "code",
   "execution_count": null,
   "source": [
    "demo_job.downloadResultFolder('./')"
   ],
   "outputs": [],
   "metadata": {}
  }
 ],
 "metadata": {
  "interpreter": {
   "hash": "5926609cd90a2d94a42e09238288e2cffb196a8e75506a864a3e89f4f0cb4116"
  },
  "kernelspec": {
   "name": "python3",
   "display_name": "Python 3.7.7 64-bit ('base': conda)"
  },
  "language_info": {
   "codemirror_mode": {
    "name": "ipython",
    "version": 3
   },
   "file_extension": ".py",
   "mimetype": "text/x-python",
   "name": "python",
   "nbconvert_exporter": "python",
   "pygments_lexer": "ipython3",
   "version": "3.7.7"
  }
 },
 "nbformat": 4,
 "nbformat_minor": 2
}