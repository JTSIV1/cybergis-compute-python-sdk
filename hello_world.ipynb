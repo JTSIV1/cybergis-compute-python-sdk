{
 "cells": [
  {
   "cell_type": "code",
   "execution_count": null,
   "source": [
    "from cybergis_compute_client import CyberGISCompute\n",
    "\n",
    "cybergis = CyberGISCompute(url=\"cgjobsup-dev.cigi.illinois.edu\", port=3030, protocol='HTTP', isJupyter=True)"
   ],
   "outputs": [],
   "metadata": {
    "tags": []
   }
  },
  {
   "cell_type": "code",
   "execution_count": 1,
   "source": [
    "from cybergis_compute_client import CyberGISCompute\n",
    "\n",
    "cybergis = CyberGISCompute(url=\"cgjobsup-dev.cigi.illinois.edu\", port=3030, protocol='HTTP', isJupyter=True)"
   ],
   "outputs": [],
   "metadata": {}
  },
  {
   "cell_type": "code",
   "execution_count": 2,
   "source": [
    "cybergis.list_hpc()"
   ],
   "outputs": [
    {
     "output_type": "display_data",
     "data": {
      "text/plain": [
       "<IPython.core.display.HTML object>"
      ],
      "text/html": [
       "<table>\n",
       "<thead>\n",
       "<tr><th style=\"text-align:left\">hpc              </th><th style=\"text-align:left\">ip                        </th><th style=\"text-align:left\">port  </th><th style=\"text-align:left\">is_community_account  </th></tr>\n",
       "</thead>\n",
       "<tbody>\n",
       "<tr><td style=\"text-align:left\">keeling_community</td><td style=\"text-align:left\">keeling.earth.illinois.edu</td><td style=\"text-align:left\">22    </td><td style=\"text-align:left\">True                  </td></tr>\n",
       "<tr><td style=\"text-align:left\">bridges_community</td><td style=\"text-align:left\">bridges2.psc.edu          </td><td style=\"text-align:left\">22    </td><td style=\"text-align:left\">True                  </td></tr>\n",
       "<tr><td style=\"text-align:left\">hadoop           </td><td style=\"text-align:left\">hadoop01.cigi.illinois.edu</td><td style=\"text-align:left\">50022 </td><td style=\"text-align:left\">False                 </td></tr>\n",
       "</tbody>\n",
       "</table>"
      ]
     },
     "metadata": {}
    }
   ],
   "metadata": {}
  },
  {
   "cell_type": "code",
   "execution_count": 3,
   "source": [
    "cybergis.list_maintainer()"
   ],
   "outputs": [
    {
     "output_type": "display_data",
     "data": {
      "text/plain": [
       "<IPython.core.display.HTML object>"
      ],
      "text/html": [
       "<table>\n",
       "<thead>\n",
       "<tr><th style=\"text-align:left\">maintainer             </th><th style=\"text-align:left\">hpc                                       </th><th style=\"text-align:left\">default_hpc      </th><th style=\"text-align:left\">job_pool_capacity  </th><th style=\"text-align:left\">executable_folder-&gt;from_user  </th><th style=\"text-align:left\">executable_folder-&gt;must_have  </th></tr>\n",
       "</thead>\n",
       "<tbody>\n",
       "<tr><td style=\"text-align:left\">hello_world_singularity</td><td style=\"text-align:left\">[&#x27;keeling_community&#x27;]                     </td><td style=\"text-align:left\">keeling_community</td><td style=\"text-align:left\">5                  </td><td style=\"text-align:left\">False                         </td><td style=\"text-align:left\">not specified                 </td></tr>\n",
       "<tr><td style=\"text-align:left\">community_contribution </td><td style=\"text-align:left\">[&#x27;keeling_community&#x27;, &#x27;bridges_community&#x27;]</td><td style=\"text-align:left\">keeling_community</td><td style=\"text-align:left\">5                  </td><td style=\"text-align:left\">True                          </td><td style=\"text-align:left\">not specified                 </td></tr>\n",
       "</tbody>\n",
       "</table>"
      ]
     },
     "metadata": {}
    }
   ],
   "metadata": {}
  },
  {
   "cell_type": "code",
   "execution_count": 4,
   "source": [
    "cybergis.list_container()"
   ],
   "outputs": [
    {
     "output_type": "error",
     "ename": "KeyError",
     "evalue": "'dockerfile'",
     "traceback": [
      "\u001b[0;31m---------------------------------------------------------------------------\u001b[0m",
      "\u001b[0;31mKeyError\u001b[0m                                  Traceback (most recent call last)",
      "\u001b[0;32m<ipython-input-4-f4322d60af70>\u001b[0m in \u001b[0;36m<module>\u001b[0;34m\u001b[0m\n\u001b[0;32m----> 1\u001b[0;31m \u001b[0mcybergis\u001b[0m\u001b[0;34m.\u001b[0m\u001b[0mlist_container\u001b[0m\u001b[0;34m(\u001b[0m\u001b[0;34m)\u001b[0m\u001b[0;34m\u001b[0m\u001b[0;34m\u001b[0m\u001b[0m\n\u001b[0m",
      "\u001b[0;32m~/Documents/Project/CyberGIS/cybergis-compute-python-sdk/cybergis_compute_client/CyberGISCompute.py\u001b[0m in \u001b[0;36mlist_container\u001b[0;34m(self)\u001b[0m\n\u001b[1;32m     42\u001b[0m             data.append([\n\u001b[1;32m     43\u001b[0m                 \u001b[0mi\u001b[0m\u001b[0;34m,\u001b[0m\u001b[0;34m\u001b[0m\u001b[0;34m\u001b[0m\u001b[0m\n\u001b[0;32m---> 44\u001b[0;31m                 \u001b[0mhpc\u001b[0m\u001b[0;34m[\u001b[0m\u001b[0mi\u001b[0m\u001b[0;34m]\u001b[0m\u001b[0;34m[\u001b[0m\u001b[0;34m'dockerfile'\u001b[0m\u001b[0;34m]\u001b[0m\u001b[0;34m,\u001b[0m\u001b[0;34m\u001b[0m\u001b[0;34m\u001b[0m\u001b[0m\n\u001b[0m\u001b[1;32m     45\u001b[0m                 \u001b[0mhpc\u001b[0m\u001b[0;34m[\u001b[0m\u001b[0mi\u001b[0m\u001b[0;34m]\u001b[0m\u001b[0;34m[\u001b[0m\u001b[0;34m'dockerhub'\u001b[0m\u001b[0;34m]\u001b[0m\u001b[0;34m\u001b[0m\u001b[0;34m\u001b[0m\u001b[0m\n\u001b[1;32m     46\u001b[0m             ])\n",
      "\u001b[0;31mKeyError\u001b[0m: 'dockerfile'"
     ]
    }
   ],
   "metadata": {}
  },
  {
   "cell_type": "code",
   "execution_count": null,
   "source": [
    "cybergis.list_git()"
   ],
   "outputs": [],
   "metadata": {}
  },
  {
   "cell_type": "code",
   "execution_count": null,
   "source": [
    "demo_job = cybergis.create_job('community_contribution', hpc='keeling_community')"
   ],
   "outputs": [],
   "metadata": {}
  },
  {
   "cell_type": "code",
   "execution_count": null,
   "source": [
    "# all parameters are optional\n",
    "# slurm = {\n",
    "#    walltime?: string -> --time\n",
    "#    num_of_node?: number -> --nodes\n",
    "#    num_of_task?: number -> --ntasks\n",
    "#    cpu_per_task?: number -> --cpus-per-task\n",
    "#    memory?: string -> --mem\n",
    "#    memory_per_cpu?: string -> --mem-per-cpu\n",
    "#    memory_per_gpu?: string -> --mem-per-gpu\n",
    "#    gpus?: number -> --gpus\n",
    "#    gpus_per_node?: number | string -> --gpus-per-node\n",
    "#    gpus_per_socket?: number | string -> --gpus-per-socket\n",
    "#    gpus_per_task?: number | string -> --gpus-per-task\n",
    "#    partition?: string -> --partition\n",
    "#    mail_type?: string[] -> --mail-type\n",
    "#    mail_user?: string[] -> --mail-user\n",
    "#    modules?: string[] -> module load [module_name]\n",
    "# }\n",
    "\n",
    "slurm = {\n",
    "    \"num_of_task\": 5,\n",
    "    \"walltime\": \"1:00\",\n",
    "    \"mail_type\": [\"END\", \"FAIL\"],\n",
    "    \"mail_user\": [\"zimox2@illinois.edu\"],\n",
    "    \"modules\": [\"GPU\"]\n",
    "}\n",
    "\n",
    "demo_job.set(executableFolder=\"git://hello_world\", param={\"a\": \"b\"}, slurm=slurm)"
   ],
   "outputs": [],
   "metadata": {}
  },
  {
   "cell_type": "code",
   "execution_count": null,
   "source": [
    "demo_job.submit()"
   ],
   "outputs": [],
   "metadata": {
    "tags": []
   }
  },
  {
   "cell_type": "code",
   "execution_count": null,
   "source": [
    "demo_job.events(liveOutput=True, refreshRateInSeconds=5)"
   ],
   "outputs": [],
   "metadata": {
    "tags": []
   }
  },
  {
   "cell_type": "code",
   "execution_count": null,
   "source": [
    "demo_job.logs(liveOutput=True)"
   ],
   "outputs": [],
   "metadata": {
    "tags": []
   }
  },
  {
   "cell_type": "code",
   "execution_count": null,
   "source": [
    "demo_job.downloadResultFolder('./')"
   ],
   "outputs": [],
   "metadata": {}
  }
 ],
 "metadata": {
  "interpreter": {
   "hash": "5926609cd90a2d94a42e09238288e2cffb196a8e75506a864a3e89f4f0cb4116"
  },
  "kernelspec": {
   "name": "python3",
   "display_name": "Python 3.7.7 64-bit ('base': conda)"
  },
  "language_info": {
   "codemirror_mode": {
    "name": "ipython",
    "version": 3
   },
   "file_extension": ".py",
   "mimetype": "text/x-python",
   "name": "python",
   "nbconvert_exporter": "python",
   "pygments_lexer": "ipython3",
   "version": "3.7.7"
  }
 },
 "nbformat": 4,
 "nbformat_minor": 2
}