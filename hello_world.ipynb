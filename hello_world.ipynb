{
 "cells": [
  {
   "cell_type": "code",
   "execution_count": 7,
   "metadata": {},
   "outputs": [
    {
     "name": "stdout",
     "output_type": "stream",
     "text": [
      "Defaulting to user installation because normal site-packages is not writeable\n",
      "Collecting git+https://github.com/cybergis/job-supervisor-python-sdk.git@v2\n",
      "  Cloning https://github.com/cybergis/job-supervisor-python-sdk.git (to revision v2) to /tmp/pip-req-build-55lj1zhg\n",
      "  Running command git clone -q https://github.com/cybergis/job-supervisor-python-sdk.git /tmp/pip-req-build-55lj1zhg\n",
      "  Running command git checkout -b v2 --track origin/v2\n",
      "  Switched to a new branch 'v2'\n",
      "  Branch 'v2' set up to track remote branch 'v2' from 'origin'.\n",
      "Collecting tabulate\n",
      "  Using cached tabulate-0.8.9-py3-none-any.whl (25 kB)\n",
      "Collecting ipython\n",
      "  Using cached ipython-7.27.0-py3-none-any.whl (787 kB)\n",
      "Collecting jedi>=0.16\n",
      "  Using cached jedi-0.18.0-py2.py3-none-any.whl (1.4 MB)\n",
      "Collecting prompt-toolkit!=3.0.0,!=3.0.1,<3.1.0,>=2.0.0\n",
      "  Using cached prompt_toolkit-3.0.20-py3-none-any.whl (370 kB)\n",
      "Collecting matplotlib-inline\n",
      "  Using cached matplotlib_inline-0.1.3-py3-none-any.whl (8.2 kB)\n",
      "Collecting pickleshare\n",
      "  Using cached pickleshare-0.7.5-py2.py3-none-any.whl (6.9 kB)\n",
      "Collecting traitlets>=4.2\n",
      "  Using cached traitlets-5.1.0-py3-none-any.whl (101 kB)\n",
      "Collecting decorator\n",
      "  Using cached decorator-5.1.0-py3-none-any.whl (9.1 kB)\n",
      "Collecting pexpect>4.3; sys_platform != \"win32\"\n",
      "  Using cached pexpect-4.8.0-py2.py3-none-any.whl (59 kB)\n",
      "Collecting backcall\n",
      "  Using cached backcall-0.2.0-py2.py3-none-any.whl (11 kB)\n",
      "Collecting setuptools>=18.5\n",
      "  Using cached setuptools-58.0.4-py3-none-any.whl (816 kB)\n",
      "Collecting pygments\n",
      "  Using cached Pygments-2.10.0-py3-none-any.whl (1.0 MB)\n",
      "Collecting parso<0.9.0,>=0.8.0\n",
      "  Using cached parso-0.8.2-py2.py3-none-any.whl (94 kB)\n",
      "Collecting wcwidth\n",
      "  Using cached wcwidth-0.2.5-py2.py3-none-any.whl (30 kB)\n",
      "Collecting ptyprocess>=0.5\n",
      "  Using cached ptyprocess-0.7.0-py2.py3-none-any.whl (13 kB)\n",
      "Building wheels for collected packages: cybergis-compute-client\n",
      "  Building wheel for cybergis-compute-client (setup.py) ... \u001b[?25ldone\n",
      "\u001b[?25h  Created wheel for cybergis-compute-client: filename=cybergis_compute_client-0.0.2-py3-none-any.whl size=15577 sha256=4774fcc76981b307c13c648d30bacca617a537dafcb2a099a0d53c550223e916\n",
      "  Stored in directory: /tmp/pip-ephem-wheel-cache-7qyir6m2/wheels/2f/b9/9d/e5ba7765e896eac077e0cb2a5a3e2c9e5eeddf1c7235c240f8\n",
      "Successfully built cybergis-compute-client\n",
      "Installing collected packages: tabulate, parso, jedi, wcwidth, prompt-toolkit, traitlets, matplotlib-inline, pickleshare, decorator, ptyprocess, pexpect, backcall, setuptools, pygments, ipython, cybergis-compute-client\n",
      "Successfully installed backcall-0.2.0 cybergis-compute-client-0.0.2 decorator-5.1.0 ipython-7.27.0 jedi-0.18.0 matplotlib-inline-0.1.3 parso-0.8.2 pexpect-4.8.0 pickleshare-0.7.5 prompt-toolkit-3.0.20 ptyprocess-0.7.0 pygments-2.10.0 setuptools-58.0.4 tabulate-0.8.9 traitlets-5.1.0 wcwidth-0.2.5\n"
     ]
    }
   ],
   "source": [
    "# Try to load CyberGIS-Compute client\n",
    "# try:\n",
    "#     from cybergis_compute_client import CyberGISCompute\n",
    "# # If not already setup, setup CyberGIS-Compute in the current Jupyter kernel\n",
    "# except:\n",
    "import sys\n",
    "!{sys.executable} -m pip install --ignore-installed git+https://github.com/cybergis/job-supervisor-python-sdk.git@v2"
   ]
  },
  {
   "cell_type": "code",
   "execution_count": 1,
   "metadata": {},
   "outputs": [
    {
     "data": {
      "application/javascript": [
       "IPython.notebook.kernel.execute(`CyberGISCompute.jupyterhubHost = \"${window.location.host}\"`);"
      ],
      "text/plain": [
       "<IPython.core.display.Javascript object>"
      ]
     },
     "metadata": {},
     "output_type": "display_data"
    }
   ],
   "source": [
    "from cybergis_compute_client import CyberGISCompute\n",
    "\n",
    "cybergis = CyberGISCompute(url=\"cgjobsup-dev.cigi.illinois.edu\", port=3030, protocol='HTTP', isJupyter=True)"
   ]
  },
  {
   "cell_type": "code",
   "execution_count": 2,
   "metadata": {},
   "outputs": [
    {
     "name": "stdout",
     "output_type": "stream",
     "text": [
      "📃 found \"cybergis_compute_user.json\"\n",
      "✅ successfully logged in as zimo-xiao@cybergisx.cigi.illinois.edu\n",
      "NOTE: if you want to login as another user, please remove this file\n"
     ]
    }
   ],
   "source": [
    "cybergis.login()"
   ]
  },
  {
   "cell_type": "code",
   "execution_count": 3,
   "metadata": {},
   "outputs": [
    {
     "data": {
      "text/html": [
       "<table>\n",
       "<thead>\n",
       "<tr><th style=\"text-align:left\">id             </th><th style=\"text-align:left\">hpc              </th><th style=\"text-align:left\">executableFolder                   </th><th style=\"text-align:left\">dataFolder  </th><th style=\"text-align:left\">resultFolder          </th><th style=\"text-align:left\">param  </th><th style=\"text-align:left\">slurm                                                               </th><th style=\"text-align:left\">userId                               </th><th style=\"text-align:left\">maintainer            </th><th style=\"text-align:left\">createdAt               </th></tr>\n",
       "</thead>\n",
       "<tbody>\n",
       "<tr><td style=\"text-align:left\">1631805042J8MGD</td><td style=\"text-align:left\">keeling_community</td><td style=\"text-align:left\">git://cybergis-compute-modules-test</td><td style=\"text-align:left\">            </td><td style=\"text-align:left\">local://1631805049Ff7i</td><td style=\"text-align:left\">{}     </td><td style=\"text-align:left\">{&quot;mail_type&quot;: [&quot;END&quot;, &quot;FAIL&quot;], &quot;mail_user&quot;: [&quot;zimox2@illinois.edu&quot;]}</td><td style=\"text-align:left\">zimo-xiao@cybergisx.cigi.illinois.edu</td><td style=\"text-align:left\">community_contribution</td><td style=\"text-align:left\">2021-09-16T10:10:42.000Z</td></tr>\n",
       "</tbody>\n",
       "</table>"
      ],
      "text/plain": [
       "<IPython.core.display.HTML object>"
      ]
     },
     "metadata": {},
     "output_type": "display_data"
    }
   ],
   "source": [
    "cybergis.list_job()"
   ]
  },
  {
   "cell_type": "code",
   "execution_count": 5,
   "metadata": {},
   "outputs": [
    {
     "data": {
      "text/html": [
       "<table>\n",
       "<thead>\n",
       "<tr><th style=\"text-align:left\">container name  </th><th style=\"text-align:left\">dockerfile  </th><th style=\"text-align:left\">dockerhub  </th></tr>\n",
       "</thead>\n",
       "<tbody>\n",
       "<tr><td style=\"text-align:left\">python          </td><td style=\"text-align:left\">            </td><td style=\"text-align:left\">           </td></tr>\n",
       "<tr><td style=\"text-align:left\">cybergisx-0.4   </td><td style=\"text-align:left\">            </td><td style=\"text-align:left\">           </td></tr>\n",
       "<tr><td style=\"text-align:left\">cjw-eb          </td><td style=\"text-align:left\">            </td><td style=\"text-align:left\">           </td></tr>\n",
       "</tbody>\n",
       "</table>"
      ],
      "text/plain": [
       "<IPython.core.display.HTML object>"
      ]
     },
     "metadata": {},
     "output_type": "display_data"
    }
   ],
   "source": [
    "cybergis.list_container()"
   ]
  },
  {
   "cell_type": "code",
   "execution_count": 6,
   "metadata": {},
   "outputs": [
    {
     "data": {
      "text/html": [
       "<table>\n",
       "<thead>\n",
       "<tr><th style=\"text-align:left\">link                                      </th><th style=\"text-align:left\">name                                </th><th style=\"text-align:left\">container    </th><th style=\"text-align:left\">repository                                                                      </th><th style=\"text-align:left\">commit  </th></tr>\n",
       "</thead>\n",
       "<tbody>\n",
       "<tr><td style=\"text-align:left\">git://uncertainty_in_spatial_accessibility</td><td style=\"text-align:left\">Uncertainty_in_Spatial_Accessibility</td><td style=\"text-align:left\">cybergisx-0.4</td><td style=\"text-align:left\">https://github.com/JinwooParkGeographer/Uncertainty-in-Spatial-Accessibility.git</td><td style=\"text-align:left\">        </td></tr>\n",
       "<tr><td style=\"text-align:left\">git://spatial_access_covid-19             </td><td style=\"text-align:left\">COVID-19 spatial accessibility      </td><td style=\"text-align:left\">cybergisx-0.4</td><td style=\"text-align:left\">https://github.com/cybergis/cybergis-compute-spatial-access-covid-19.git        </td><td style=\"text-align:left\">        </td></tr>\n",
       "<tr><td style=\"text-align:left\">git://hello_world                         </td><td style=\"text-align:left\">hello world                         </td><td style=\"text-align:left\">python       </td><td style=\"text-align:left\">https://github.com/cybergis/cybergis-compute-hello-world.git                    </td><td style=\"text-align:left\">        </td></tr>\n",
       "<tr><td style=\"text-align:left\">git://fireabm                             </td><td style=\"text-align:left\">hello FireABM                       </td><td style=\"text-align:left\">cybergisx-0.4</td><td style=\"text-align:left\">https://github.com/cybergis/cybergis-compute-fireabm.git                        </td><td style=\"text-align:left\">        </td></tr>\n",
       "<tr><td style=\"text-align:left\">git://data_fusion                         </td><td style=\"text-align:left\">data fusion                         </td><td style=\"text-align:left\">python       </td><td style=\"text-align:left\">https://github.com/CarnivalBug/data_fusion.git                                  </td><td style=\"text-align:left\">        </td></tr>\n",
       "<tr><td style=\"text-align:left\">git://cybergis-compute-modules-test       </td><td style=\"text-align:left\">modules test                        </td><td style=\"text-align:left\">cjw-eb       </td><td style=\"text-align:left\">https://github.com/alexandermichels/cybergis-compute-modules-test.git           </td><td style=\"text-align:left\">        </td></tr>\n",
       "<tr><td style=\"text-align:left\">git://bridge_hello_world                  </td><td style=\"text-align:left\">hello world                         </td><td style=\"text-align:left\">python       </td><td style=\"text-align:left\">https://github.com/cybergis/CyberGIS-Compute-Bridges-2.git                      </td><td style=\"text-align:left\">        </td></tr>\n",
       "</tbody>\n",
       "</table>"
      ],
      "text/plain": [
       "<IPython.core.display.HTML object>"
      ]
     },
     "metadata": {},
     "output_type": "display_data"
    }
   ],
   "source": [
    "cybergis.list_git()"
   ]
  },
  {
   "cell_type": "markdown",
   "metadata": {},
   "source": [
    "Get job by id (need to login)"
   ]
  },
  {
   "cell_type": "code",
   "execution_count": 7,
   "metadata": {},
   "outputs": [],
   "source": [
    "old_job = cybergis.get_job_by_id('1631805042J8MGD')"
   ]
  },
  {
   "cell_type": "code",
   "execution_count": 8,
   "metadata": {},
   "outputs": [
    {
     "data": {
      "text/plain": [
       "[{'id': 4609,\n",
       "  'jobId': '1631805042J8MGD',\n",
       "  'type': 'JOB_QUEUED',\n",
       "  'message': 'job [1631805042J8MGD] is queued, waiting for registration',\n",
       "  'createdAt': '2021-09-16T10:10:48.000Z',\n",
       "  'updatedAt': '2021-09-16T10:10:48.000Z',\n",
       "  'deletedAt': None},\n",
       " {'id': 4610,\n",
       "  'jobId': '1631805042J8MGD',\n",
       "  'type': 'JOB_REGISTERED',\n",
       "  'message': 'job [1631805042J8MGD] is registered with the supervisor, waiting for initialization',\n",
       "  'createdAt': '2021-09-16T10:10:49.000Z',\n",
       "  'updatedAt': '2021-09-16T10:10:49.000Z',\n",
       "  'deletedAt': None},\n",
       " {'id': 4611,\n",
       "  'jobId': '1631805042J8MGD',\n",
       "  'type': 'SLURM_UPLOAD',\n",
       "  'message': 'uploading files',\n",
       "  'createdAt': '2021-09-16T10:10:57.000Z',\n",
       "  'updatedAt': '2021-09-16T10:10:57.000Z',\n",
       "  'deletedAt': None},\n",
       " {'id': 4612,\n",
       "  'jobId': '1631805042J8MGD',\n",
       "  'type': 'SSH_UNZIP',\n",
       "  'message': 'unzipping /data/keeling/a/cigi-gisolve/scratch/dev/1631805042J8MGD/executable.zip to /data/keeling/a/cigi-gisolve/scratch/dev/1631805042J8MGD/executable',\n",
       "  'createdAt': '2021-09-16T10:10:57.000Z',\n",
       "  'updatedAt': '2021-09-16T10:10:57.000Z',\n",
       "  'deletedAt': None},\n",
       " {'id': 4613,\n",
       "  'jobId': '1631805042J8MGD',\n",
       "  'type': 'SSH_RM',\n",
       "  'message': 'removing /data/keeling/a/cigi-gisolve/scratch/dev/1631805042J8MGD/executable.zip',\n",
       "  'createdAt': '2021-09-16T10:10:57.000Z',\n",
       "  'updatedAt': '2021-09-16T10:10:57.000Z',\n",
       "  'deletedAt': None},\n",
       " {'id': 4614,\n",
       "  'jobId': '1631805042J8MGD',\n",
       "  'type': 'SSH_CREATE_FILE',\n",
       "  'message': 'create file to /data/keeling/a/cigi-gisolve/scratch/dev/1631805042J8MGD/executable/job.json',\n",
       "  'createdAt': '2021-09-16T10:10:57.000Z',\n",
       "  'updatedAt': '2021-09-16T10:10:57.000Z',\n",
       "  'deletedAt': None},\n",
       " {'id': 4615,\n",
       "  'jobId': '1631805042J8MGD',\n",
       "  'type': 'SLURM_MKDIR_RESULT',\n",
       "  'message': 'creating result folder',\n",
       "  'createdAt': '2021-09-16T10:10:57.000Z',\n",
       "  'updatedAt': '2021-09-16T10:10:57.000Z',\n",
       "  'deletedAt': None},\n",
       " {'id': 4616,\n",
       "  'jobId': '1631805042J8MGD',\n",
       "  'type': 'SLURM_SUBMIT',\n",
       "  'message': 'submitting slurm job',\n",
       "  'createdAt': '2021-09-16T10:10:57.000Z',\n",
       "  'updatedAt': '2021-09-16T10:10:57.000Z',\n",
       "  'deletedAt': None},\n",
       " {'id': 4617,\n",
       "  'jobId': '1631805042J8MGD',\n",
       "  'type': 'SLURM_SUBMIT_SUCCESS',\n",
       "  'message': 'slurm job submitted with slurm job id 431198',\n",
       "  'createdAt': '2021-09-16T10:10:57.000Z',\n",
       "  'updatedAt': '2021-09-16T10:10:57.000Z',\n",
       "  'deletedAt': None},\n",
       " {'id': 4618,\n",
       "  'jobId': '1631805042J8MGD',\n",
       "  'type': 'JOB_INIT',\n",
       "  'message': 'job [1631805042J8MGD] is initialized, waiting for job completion',\n",
       "  'createdAt': '2021-09-16T10:10:57.000Z',\n",
       "  'updatedAt': '2021-09-16T10:10:57.000Z',\n",
       "  'deletedAt': None},\n",
       " {'id': 4619,\n",
       "  'jobId': '1631805042J8MGD',\n",
       "  'type': 'SSH_RM',\n",
       "  'message': 'removing /data/keeling/a/cigi-gisolve/scratch/dev/1631805042J8MGD/result.zip',\n",
       "  'createdAt': '2021-09-16T10:11:05.000Z',\n",
       "  'updatedAt': '2021-09-16T10:11:05.000Z',\n",
       "  'deletedAt': None},\n",
       " {'id': 4620,\n",
       "  'jobId': '1631805042J8MGD',\n",
       "  'type': 'SSH_SCP_DOWNLOAD',\n",
       "  'message': 'get file from /data/keeling/a/cigi-gisolve/scratch/dev/1631805042J8MGD/result to /job_supervisor/data/root/1631805049Ff7i',\n",
       "  'createdAt': '2021-09-16T10:11:05.000Z',\n",
       "  'updatedAt': '2021-09-16T10:11:05.000Z',\n",
       "  'deletedAt': None},\n",
       " {'id': 4621,\n",
       "  'jobId': '1631805042J8MGD',\n",
       "  'type': 'SSH_ZIP',\n",
       "  'message': 'zipping /data/keeling/a/cigi-gisolve/scratch/dev/1631805042J8MGD/result to /data/keeling/a/cigi-gisolve/scratch/dev/1631805042J8MGD/result.zip',\n",
       "  'createdAt': '2021-09-16T10:11:05.000Z',\n",
       "  'updatedAt': '2021-09-16T10:11:05.000Z',\n",
       "  'deletedAt': None},\n",
       " {'id': 4622,\n",
       "  'jobId': '1631805042J8MGD',\n",
       "  'type': 'JOB_ENDED',\n",
       "  'message': 'job [1631805042J8MGD] finished',\n",
       "  'createdAt': '2021-09-16T10:11:05.000Z',\n",
       "  'updatedAt': '2021-09-16T10:11:05.000Z',\n",
       "  'deletedAt': None}]"
      ]
     },
     "execution_count": 8,
     "metadata": {},
     "output_type": "execute_result"
    }
   ],
   "source": [
    "old_job.events()"
   ]
  },
  {
   "cell_type": "markdown",
   "metadata": {},
   "source": [
    "create new jobs"
   ]
  },
  {
   "cell_type": "code",
   "execution_count": 4,
   "metadata": {},
   "outputs": [],
   "source": [
    "demo_job = cybergis.create_job(hpc='keeling_community')"
   ]
  },
  {
   "cell_type": "code",
   "execution_count": 5,
   "metadata": {},
   "outputs": [
    {
     "data": {
      "text/html": [
       "<table>\n",
       "<thead>\n",
       "<tr><th style=\"text-align:left\">id             </th><th style=\"text-align:left\">hpc              </th><th style=\"text-align:left\">executableFolder                   </th><th style=\"text-align:left\">dataFolder  </th><th style=\"text-align:left\">resultFolder  </th><th style=\"text-align:left\">param  </th><th style=\"text-align:left\">slurm                                                               </th><th style=\"text-align:left\">userId                               </th><th style=\"text-align:left\">maintainer            </th><th style=\"text-align:left\">createdAt               </th></tr>\n",
       "</thead>\n",
       "<tbody>\n",
       "<tr><td style=\"text-align:left\">1631805042J8MGD</td><td style=\"text-align:left\">keeling_community</td><td style=\"text-align:left\">git://cybergis-compute-modules-test</td><td style=\"text-align:left\">            </td><td style=\"text-align:left\">              </td><td style=\"text-align:left\">{}     </td><td style=\"text-align:left\">{&quot;mail_type&quot;: [&quot;END&quot;, &quot;FAIL&quot;], &quot;mail_user&quot;: [&quot;zimox2@illinois.edu&quot;]}</td><td style=\"text-align:left\">zimo-xiao@cybergisx.cigi.illinois.edu</td><td style=\"text-align:left\">community_contribution</td><td style=\"text-align:left\">2021-09-16T10:10:42.000Z</td></tr>\n",
       "</tbody>\n",
       "</table>"
      ],
      "text/plain": [
       "<IPython.core.display.HTML object>"
      ]
     },
     "metadata": {},
     "output_type": "display_data"
    }
   ],
   "source": [
    "# all parameters are optional\n",
    "# slurm = {\n",
    "#    walltime?: string -> --time\n",
    "#    num_of_node?: number -> --nodes\n",
    "#    num_of_task?: number -> --ntasks\n",
    "#    cpu_per_task?: number -> --cpus-per-task\n",
    "#    memory?: string -> --mem\n",
    "#    memory_per_cpu?: string -> --mem-per-cpu\n",
    "#    memory_per_gpu?: string -> --mem-per-gpu\n",
    "#    gpus?: number -> --gpus\n",
    "#    gpus_per_node?: number | string -> --gpus-per-node\n",
    "#    gpus_per_socket?: number | string -> --gpus-per-socket\n",
    "#    gpus_per_task?: number | string -> --gpus-per-task\n",
    "#    partition?: string -> --partition\n",
    "#    mail_type?: string[] -> --mail-type\n",
    "#    mail_user?: string[] -> --mail-user\n",
    "#    modules?: string[] -> module load [module_name]\n",
    "# }\n",
    "\n",
    "slurm = {\n",
    "    \"mail_type\": [\"END\", \"FAIL\"],\n",
    "    \"mail_user\": [\"zimox2@illinois.edu\"]\n",
    "}\n",
    "\n",
    "demo_job.set(executableFolder=\"git://cybergis-compute-modules-test\", slurm=slurm)"
   ]
  },
  {
   "cell_type": "code",
   "execution_count": 6,
   "metadata": {
    "tags": []
   },
   "outputs": [
    {
     "name": "stdout",
     "output_type": "stream",
     "text": [
      "✅ job submitted\n"
     ]
    },
    {
     "data": {
      "text/html": [
       "<table>\n",
       "<thead>\n",
       "<tr><th style=\"text-align:left\">id             </th><th style=\"text-align:left\">hpc              </th><th style=\"text-align:left\">executableFolder                   </th><th style=\"text-align:left\">dataFolder  </th><th style=\"text-align:left\">resultFolder  </th><th style=\"text-align:left\">param  </th><th style=\"text-align:left\">slurm                                                               </th><th style=\"text-align:left\">userId                               </th><th style=\"text-align:left\">maintainer            </th><th style=\"text-align:left\">createdAt               </th></tr>\n",
       "</thead>\n",
       "<tbody>\n",
       "<tr><td style=\"text-align:left\">1631805042J8MGD</td><td style=\"text-align:left\">keeling_community</td><td style=\"text-align:left\">git://cybergis-compute-modules-test</td><td style=\"text-align:left\">            </td><td style=\"text-align:left\">              </td><td style=\"text-align:left\">{}     </td><td style=\"text-align:left\">{&quot;mail_type&quot;: [&quot;END&quot;, &quot;FAIL&quot;], &quot;mail_user&quot;: [&quot;zimox2@illinois.edu&quot;]}</td><td style=\"text-align:left\">zimo-xiao@cybergisx.cigi.illinois.edu</td><td style=\"text-align:left\">community_contribution</td><td style=\"text-align:left\">2021-09-16T10:10:42.000Z</td></tr>\n",
       "</tbody>\n",
       "</table>"
      ],
      "text/plain": [
       "<IPython.core.display.HTML object>"
      ]
     },
     "metadata": {},
     "output_type": "display_data"
    },
    {
     "data": {
      "text/plain": [
       "<cybergis_compute_client.Job.Job at 0x7f6618553eb0>"
      ]
     },
     "execution_count": 6,
     "metadata": {},
     "output_type": "execute_result"
    }
   ],
   "source": [
    "demo_job.submit()"
   ]
  },
  {
   "cell_type": "code",
   "execution_count": 7,
   "metadata": {
    "tags": []
   },
   "outputs": [
    {
     "name": "stdout",
     "output_type": "stream",
     "text": [
      "📮 Job ID: 1631805042J8MGD\n",
      "💻 HPC: keeling_community\n",
      "🤖 Maintainer: community_contribution\n"
     ]
    },
    {
     "data": {
      "text/html": [
       "<table>\n",
       "<thead>\n",
       "<tr><th>types               </th><th>message                                                                                                                                                 </th><th>time                    </th></tr>\n",
       "</thead>\n",
       "<tbody>\n",
       "<tr><td>JOB_QUEUED          </td><td>job [1631805042J8MGD] is queued, waiting for registration                                                                                               </td><td>2021-09-16T10:10:48.000Z</td></tr>\n",
       "<tr><td>JOB_REGISTERED      </td><td>job [1631805042J8MGD] is registered with the supervisor, waiting for initialization                                                                     </td><td>2021-09-16T10:10:49.000Z</td></tr>\n",
       "<tr><td>SLURM_UPLOAD        </td><td>uploading files                                                                                                                                         </td><td>2021-09-16T10:10:57.000Z</td></tr>\n",
       "<tr><td>SSH_UNZIP           </td><td>unzipping /data/keeling/a/cigi-gisolve/scratch/dev/1631805042J8MGD/executable.zip to /data/keeling/a/cigi-gisolve/scratch/dev/1631805042J8MGD/executable</td><td>2021-09-16T10:10:57.000Z</td></tr>\n",
       "<tr><td>SSH_RM              </td><td>removing /data/keeling/a/cigi-gisolve/scratch/dev/1631805042J8MGD/executable.zip                                                                        </td><td>2021-09-16T10:10:57.000Z</td></tr>\n",
       "<tr><td>SSH_CREATE_FILE     </td><td>create file to /data/keeling/a/cigi-gisolve/scratch/dev/1631805042J8MGD/executable/job.json                                                             </td><td>2021-09-16T10:10:57.000Z</td></tr>\n",
       "<tr><td>SLURM_MKDIR_RESULT  </td><td>creating result folder                                                                                                                                  </td><td>2021-09-16T10:10:57.000Z</td></tr>\n",
       "<tr><td>SLURM_SUBMIT        </td><td>submitting slurm job                                                                                                                                    </td><td>2021-09-16T10:10:57.000Z</td></tr>\n",
       "<tr><td>SLURM_SUBMIT_SUCCESS</td><td>slurm job submitted with slurm job id 431198                                                                                                            </td><td>2021-09-16T10:10:57.000Z</td></tr>\n",
       "<tr><td>JOB_INIT            </td><td>job [1631805042J8MGD] is initialized, waiting for job completion                                                                                        </td><td>2021-09-16T10:10:57.000Z</td></tr>\n",
       "<tr><td>SSH_RM              </td><td>removing /data/keeling/a/cigi-gisolve/scratch/dev/1631805042J8MGD/result.zip                                                                            </td><td>2021-09-16T10:11:05.000Z</td></tr>\n",
       "<tr><td>SSH_SCP_DOWNLOAD    </td><td>get file from /data/keeling/a/cigi-gisolve/scratch/dev/1631805042J8MGD/result to /job_supervisor/data/root/1631805049Ff7i                               </td><td>2021-09-16T10:11:05.000Z</td></tr>\n",
       "<tr><td>SSH_ZIP             </td><td>zipping /data/keeling/a/cigi-gisolve/scratch/dev/1631805042J8MGD/result to /data/keeling/a/cigi-gisolve/scratch/dev/1631805042J8MGD/result.zip          </td><td>2021-09-16T10:11:05.000Z</td></tr>\n",
       "<tr><td>JOB_ENDED           </td><td>job [1631805042J8MGD] finished                                                                                                                          </td><td>2021-09-16T10:11:05.000Z</td></tr>\n",
       "</tbody>\n",
       "</table>"
      ],
      "text/plain": [
       "<IPython.core.display.HTML object>"
      ]
     },
     "metadata": {},
     "output_type": "display_data"
    }
   ],
   "source": [
    "demo_job.events(refreshRateInSeconds=5)"
   ]
  },
  {
   "cell_type": "code",
   "execution_count": 29,
   "metadata": {
    "tags": []
   },
   "outputs": [
    {
     "name": "stdout",
     "output_type": "stream",
     "text": [
      "📮 Job ID: 1631200645vmXdV\n",
      "💻 HPC: keeling_community\n",
      "🤖 Maintainer: community_contribution\n"
     ]
    },
    {
     "data": {
      "text/html": [
       "<table>\n",
       "<thead>\n",
       "<tr><th>message                                                                                                                                                                                                                                                                                                                                                                                                                                                                                                                                       </th><th>time                    </th></tr>\n",
       "</thead>\n",
       "<tbody>\n",
       "<tr><td style='text-align:left'>/data/cigi/cybergisx-easybuild/easybuild/software/PostGIS/3.1.2-foss-2019b/bin:/data/cigi/cybergisx-easybuild/easybuild/software/protobuf-c/1.3.3-GCCcore-8.3.0/bin:/data/cigi/cybergisx-easybuild/easybuild/software/protobuf/3.10.0-GCCcore-8.3.0/bin:/data/cigi/cybergisx-easybuild/easybuild/software/PostgreSQL/12.4-GCCcore-8.3.0/bin:/data/cigi/cybergisx-easybuild/easybuild/software/SoPlex/4.0.1-foss-2019b/bin:/data/cigi/cybergisx-easybuild/easybuild/software/Xvfb/1.20.8-GCCcore-8.3.0/bin:/data/cigi...[download for full log]</td><td style='text-align:left'>2021-09-09T10:17:50.000Z</td></tr>\n",
       "<tr><td style='text-align:left'>------------------ /data/cigi/cybergisx-easybuild/metamodules ------------------\n",
       "   cjw/2021-08    cybergisx/2021-08\n",
       "\n",
       "------------- /data/cigi/cybergisx-easybuild/easybuild/modules/all -------------\n",
       "   Anaconda3/4.4.0\n",
       "   Anaconda3/2019.03\n",
       "   Anaconda3/2020.11                                       (D)\n",
       "   Autoconf/2.69-GCCcore-8.3.0\n",
       "   Automake/1.16.1-GCCcore-8.3.0\n",
       "   Autotools/20180311-GCCcore-8.3.0\n",
       "   Bison/3.3.2-GCCcore-8.3.0\n",
       "   Bison/3.3.2\n",
       "   Bison/3.5.3                                       ...[download for full log]                                                                                                                                                                                                                                                                                                                                                                                                                                                                                                                                               </td><td style='text-align:left'>2021-09-09T10:17:50.000Z</td></tr>\n",
       "</tbody>\n",
       "</table>"
      ],
      "text/plain": [
       "<IPython.core.display.HTML object>"
      ]
     },
     "metadata": {},
     "output_type": "display_data"
    }
   ],
   "source": [
    "demo_job.logs(liveOutput=True)"
   ]
  },
  {
   "cell_type": "code",
   "execution_count": 30,
   "metadata": {},
   "outputs": [
    {
     "name": "stdout",
     "output_type": "stream",
     "text": [
      "file successfully downloaded under: ./1631200654uQOA.zip\n"
     ]
    },
    {
     "data": {
      "text/plain": [
       "'./1631200654uQOA.zip'"
      ]
     },
     "execution_count": 30,
     "metadata": {},
     "output_type": "execute_result"
    }
   ],
   "source": [
    "demo_job.downloadResultFolder('./')"
   ]
  },
  {
   "cell_type": "code",
   "execution_count": 32,
   "metadata": {},
   "outputs": [
    {
     "name": "stdout",
     "output_type": "stream",
     "text": [
      "Archive:  ./1631200654uQOA.zip\r\n",
      "  inflating: job.stdout              \r\n",
      "  inflating: job.stderr              \r\n"
     ]
    }
   ],
   "source": [
    "!unzip ./1631200654uQOA.zip"
   ]
  },
  {
   "cell_type": "code",
   "execution_count": null,
   "metadata": {},
   "outputs": [],
   "source": [
    "demo_job.queryGlobusTaskStatus()"
   ]
  }
 ],
 "metadata": {
  "interpreter": {
   "hash": "5926609cd90a2d94a42e09238288e2cffb196a8e75506a864a3e89f4f0cb4116"
  },
  "kernelspec": {
   "display_name": "Python 3",
   "language": "python",
   "name": "python3"
  },
  "language_info": {
   "codemirror_mode": {
    "name": "ipython",
    "version": 3
   },
   "file_extension": ".py",
   "mimetype": "text/x-python",
   "name": "python",
   "nbconvert_exporter": "python",
   "pygments_lexer": "ipython3",
   "version": "3.8.5"
  }
 },
 "nbformat": 4,
 "nbformat_minor": 2
}
