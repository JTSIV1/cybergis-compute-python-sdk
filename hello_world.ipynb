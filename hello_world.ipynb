{
 "cells": [
  {
   "cell_type": "code",
   "execution_count": 1,
   "source": [
    "from cybergis_compute_client import CyberGISCompute\n",
    "\n",
    "cybergis = CyberGISCompute(url=\"cgjobsup-dev.cigi.illinois.edu\", port=3030, protocol='HTTP', isJupyter=True)"
   ],
   "outputs": [],
   "metadata": {
    "tags": []
   }
  },
  {
   "cell_type": "code",
   "execution_count": 2,
   "source": [
    "cybergis.list_hpc()"
   ],
   "outputs": [
    {
     "output_type": "display_data",
     "data": {
      "text/plain": [
       "<IPython.core.display.HTML object>"
      ],
      "text/html": [
       "<table>\n",
       "<thead>\n",
       "<tr><th style=\"text-align:left\">hpc              </th><th style=\"text-align:left\">ip                        </th><th style=\"text-align:left\">port  </th><th style=\"text-align:left\">is_community_account  </th></tr>\n",
       "</thead>\n",
       "<tbody>\n",
       "<tr><td style=\"text-align:left\">keeling_community</td><td style=\"text-align:left\">keeling.earth.illinois.edu</td><td style=\"text-align:left\">22    </td><td style=\"text-align:left\">True                  </td></tr>\n",
       "<tr><td style=\"text-align:left\">bridges_community</td><td style=\"text-align:left\">bridges2.psc.edu          </td><td style=\"text-align:left\">22    </td><td style=\"text-align:left\">True                  </td></tr>\n",
       "<tr><td style=\"text-align:left\">hadoop           </td><td style=\"text-align:left\">hadoop01.cigi.illinois.edu</td><td style=\"text-align:left\">50022 </td><td style=\"text-align:left\">False                 </td></tr>\n",
       "</tbody>\n",
       "</table>"
      ]
     },
     "metadata": {}
    }
   ],
   "metadata": {}
  },
  {
   "cell_type": "code",
   "execution_count": 3,
   "source": [
    "cybergis.list_maintainer()"
   ],
   "outputs": [
    {
     "output_type": "display_data",
     "data": {
      "text/plain": [
       "<IPython.core.display.HTML object>"
      ],
      "text/html": [
       "<table>\n",
       "<thead>\n",
       "<tr><th style=\"text-align:left\">maintainer             </th><th style=\"text-align:left\">hpc                                       </th><th style=\"text-align:left\">default_hpc      </th><th style=\"text-align:left\">job_pool_capacity  </th><th style=\"text-align:left\">executable_folder-&gt;from_user  </th><th style=\"text-align:left\">executable_folder-&gt;must_have                                                     </th></tr>\n",
       "</thead>\n",
       "<tbody>\n",
       "<tr><td style=\"text-align:left\">SUMMA                  </td><td style=\"text-align:left\">[&#x27;keeling_community&#x27;]                     </td><td style=\"text-align:left\">keeling_community</td><td style=\"text-align:left\">5                  </td><td style=\"text-align:left\">True                          </td><td style=\"text-align:left\">[&#x27;summa_options.json&#x27;, &#x27;installTestCases_local.sh&#x27;, &#x27;data&#x27;, &#x27;output&#x27;, &#x27;settings&#x27;]</td></tr>\n",
       "<tr><td style=\"text-align:left\">hello_world_singularity</td><td style=\"text-align:left\">[&#x27;keeling_community&#x27;]                     </td><td style=\"text-align:left\">keeling_community</td><td style=\"text-align:left\">5                  </td><td style=\"text-align:left\">False                         </td><td style=\"text-align:left\">not specified                                                                    </td></tr>\n",
       "<tr><td style=\"text-align:left\">community_contribution </td><td style=\"text-align:left\">[&#x27;keeling_community&#x27;, &#x27;bridges_community&#x27;]</td><td style=\"text-align:left\">keeling_community</td><td style=\"text-align:left\">5                  </td><td style=\"text-align:left\">True                          </td><td style=\"text-align:left\">not specified                                                                    </td></tr>\n",
       "<tr><td style=\"text-align:left\">spatial_access         </td><td style=\"text-align:left\">[&#x27;keeling_community&#x27;]                     </td><td style=\"text-align:left\">keeling_community</td><td style=\"text-align:left\">5                  </td><td style=\"text-align:left\">False                         </td><td style=\"text-align:left\">not specified                                                                    </td></tr>\n",
       "</tbody>\n",
       "</table>"
      ]
     },
     "metadata": {}
    }
   ],
   "metadata": {}
  },
  {
   "cell_type": "code",
   "execution_count": 4,
   "source": [
    "cybergis.list_git()"
   ],
   "outputs": [
    {
     "output_type": "display_data",
     "data": {
      "text/plain": [
       "<IPython.core.display.HTML object>"
      ],
      "text/html": [
       "<table>\n",
       "<thead>\n",
       "<tr><th style=\"text-align:left\">link                         </th><th style=\"text-align:left\">name                          </th><th style=\"text-align:left\">container  </th><th style=\"text-align:left\">repository                                                              </th><th style=\"text-align:left\">commit  </th></tr>\n",
       "</thead>\n",
       "<tbody>\n",
       "<tr><td style=\"text-align:left\">git://hello_world            </td><td style=\"text-align:left\">hello world                   </td><td style=\"text-align:left\">python     </td><td style=\"text-align:left\">https://github.com/cybergis/cybergis-compute-hello-world.git            </td><td style=\"text-align:left\">NONE    </td></tr>\n",
       "<tr><td style=\"text-align:left\">git://bridge_hello_world     </td><td style=\"text-align:left\">hello world                   </td><td style=\"text-align:left\">python     </td><td style=\"text-align:left\">https://github.com/cybergis/CyberGIS-Compute-Bridges-2.git              </td><td style=\"text-align:left\">NONE    </td></tr>\n",
       "<tr><td style=\"text-align:left\">git://spatial_access_covid-19</td><td style=\"text-align:left\">COVID-19 spatial accessibility</td><td style=\"text-align:left\">python     </td><td style=\"text-align:left\">https://github.com/cybergis/cybergis-compute-spatial-access-covid-19.git</td><td style=\"text-align:left\">NONE    </td></tr>\n",
       "</tbody>\n",
       "</table>"
      ]
     },
     "metadata": {}
    }
   ],
   "metadata": {}
  },
  {
   "cell_type": "code",
   "execution_count": 5,
   "source": [
    "demo_job = cybergis.create_job('community_contribution', hpc='keeling_community')"
   ],
   "outputs": [
    {
     "output_type": "stream",
     "name": "stdout",
     "text": [
      "📃 created constructor file [job_constructor_16273914695G2SW.json]\n"
     ]
    }
   ],
   "metadata": {}
  },
  {
   "cell_type": "code",
   "execution_count": 6,
   "source": [
    "# all parameters are optional\n",
    "# slurm = {\n",
    "#    walltime?: string -> --time\n",
    "#    num_of_node?: number -> --nodes\n",
    "#    num_of_task?: number -> --ntasks\n",
    "#    cpu_per_task?: number -> --cpus-per-task\n",
    "#    memory?: string -> --mem\n",
    "#    memory_per_cpu?: string -> --mem-per-cpu\n",
    "#    memory_per_gpu?: string -> --mem-per-gpu\n",
    "#    gpus?: number -> --gpus\n",
    "#    gpus_per_node?: number | string -> --gpus-per-node\n",
    "#    gpus_per_socket?: number | string -> --gpus-per-socket\n",
    "#    gpus_per_task?: number | string -> --gpus-per-task\n",
    "#    partition?: string -> --partition\n",
    "#    mail_type?: string[] -> --mail-type\n",
    "#    mail_user?: string[] -> --mail-user\n",
    "# }\n",
    "\n",
    "slurm = {\n",
    "    \"num_of_task\": 5,\n",
    "    \"walltime\": \"1:00\",\n",
    "    \"mail_type\": [\"END\", \"FAIL\"],\n",
    "    \"mail_user\": [\"zimox2@illinois.edu\"]\n",
    "}\n",
    "\n",
    "demo_job.set(executableFolder=\"git://hello_world\", param={\"key_a\": \"val_a\"}, slurm=slurm)"
   ],
   "outputs": [
    {
     "output_type": "stream",
     "name": "stdout",
     "text": [
      "{'param': {'key_a': 'val_a'}, 'env': {}, 'slurm': {'num_of_task': 5, 'walltime': '1:00', 'mail_type': ['END', 'FAIL'], 'mail_user': ['zimox2@illinois.edu']}, 'executableFolder': 'git://hello_world'}\n"
     ]
    }
   ],
   "metadata": {}
  },
  {
   "cell_type": "code",
   "execution_count": 7,
   "source": [
    "demo_job.submit()"
   ],
   "outputs": [
    {
     "output_type": "stream",
     "name": "stdout",
     "text": [
      "✅ job submitted\n"
     ]
    },
    {
     "output_type": "execute_result",
     "data": {
      "text/plain": [
       "<cybergis_compute_client.Job.Job at 0x7fe966b2dc10>"
      ]
     },
     "metadata": {},
     "execution_count": 7
    }
   ],
   "metadata": {
    "tags": []
   }
  },
  {
   "cell_type": "code",
   "execution_count": 8,
   "source": [
    "demo_job.events(liveOutput=True, refreshRateInSeconds=5)"
   ],
   "outputs": [
    {
     "output_type": "stream",
     "name": "stdout",
     "text": [
      "📮 Job ID: 16273914695G2SW\n",
      "💻 HPC: keeling_community\n",
      "🤖 Maintainer: community_contribution\n"
     ]
    },
    {
     "output_type": "display_data",
     "data": {
      "text/plain": [
       "<IPython.core.display.HTML object>"
      ],
      "text/html": [
       "<table>\n",
       "<thead>\n",
       "<tr><th>types             </th><th>message                                                                                                                                                 </th><th>time                    </th></tr>\n",
       "</thead>\n",
       "<tbody>\n",
       "<tr><td>JOB_QUEUED        </td><td>job [16273914695G2SW] is queued, waiting for registration                                                                                               </td><td>2021-07-27T08:11:16.000Z</td></tr>\n",
       "<tr><td>JOB_REGISTERED    </td><td>job [16273914695G2SW] is registered with the supervisor, waiting for initialization                                                                     </td><td>2021-07-27T08:11:17.000Z</td></tr>\n",
       "<tr><td>SLURM_UPLOAD      </td><td>uploading files                                                                                                                                         </td><td>2021-07-27T08:11:23.000Z</td></tr>\n",
       "<tr><td>SSH_UNZIP         </td><td>unzipping /data/keeling/a/cigi-gisolve/scratch/dev/16273914695G2SW/executable.zip to /data/keeling/a/cigi-gisolve/scratch/dev/16273914695G2SW/executable</td><td>2021-07-27T08:11:23.000Z</td></tr>\n",
       "<tr><td>SSH_RM            </td><td>removing /data/keeling/a/cigi-gisolve/scratch/dev/16273914695G2SW/executable.zip                                                                        </td><td>2021-07-27T08:11:23.000Z</td></tr>\n",
       "<tr><td>SSH_CREATE_FILE   </td><td>create file to /data/keeling/a/cigi-gisolve/scratch/dev/16273914695G2SW/executable/job.json                                                             </td><td>2021-07-27T08:11:23.000Z</td></tr>\n",
       "<tr><td>SLURM_MKDIR_RESULT</td><td>creating result folder                                                                                                                                  </td><td>2021-07-27T08:11:24.000Z</td></tr>\n",
       "<tr><td>SLURM_SUBMIT      </td><td>submitting slurm job                                                                                                                                    </td><td>2021-07-27T08:11:24.000Z</td></tr>\n",
       "<tr><td>JOB_INIT          </td><td>job [16273914695G2SW] is initialized, waiting for job completion                                                                                        </td><td>2021-07-27T08:11:24.000Z</td></tr>\n",
       "<tr><td>SSH_ZIP           </td><td>zipping /data/keeling/a/cigi-gisolve/scratch/dev/16273914695G2SW/result to /data/keeling/a/cigi-gisolve/scratch/dev/16273914695G2SW/result.zip          </td><td>2021-07-27T08:11:31.000Z</td></tr>\n",
       "<tr><td>SSH_SCP_DOWNLOAD  </td><td>get file from /data/keeling/a/cigi-gisolve/scratch/dev/16273914695G2SW/result to /job_supervisor/data/root/16273914773v43                               </td><td>2021-07-27T08:11:31.000Z</td></tr>\n",
       "<tr><td>SSH_RM            </td><td>removing /data/keeling/a/cigi-gisolve/scratch/dev/16273914695G2SW/result.zip                                                                            </td><td>2021-07-27T08:11:31.000Z</td></tr>\n",
       "<tr><td>JOB_ENDED         </td><td>job [16273914695G2SW] finished                                                                                                                          </td><td>2021-07-27T08:11:32.000Z</td></tr>\n",
       "</tbody>\n",
       "</table>"
      ]
     },
     "metadata": {}
    }
   ],
   "metadata": {
    "tags": []
   }
  },
  {
   "cell_type": "code",
   "execution_count": 10,
   "source": [
    "demo_job.logs(liveOutput=True)"
   ],
   "outputs": [
    {
     "output_type": "stream",
     "name": "stdout",
     "text": [
      "📮 Job ID: 1627390428BrNyW\n",
      "💻 HPC: keeling_community\n",
      "🤖 Maintainer: community_contribution\n"
     ]
    },
    {
     "output_type": "display_data",
     "data": {
      "text/plain": [
       "<IPython.core.display.HTML object>"
      ],
      "text/html": [
       "<table>\n",
       "<thead>\n",
       "<tr><th>message  </th><th>time                    </th></tr>\n",
       "</thead>\n",
       "<tbody>\n",
       "<tr><td style='text-align:left'>running setup...\n",
       "running main...\n",
       "{&#x27;jobId&#x27;: &#x27;1627390428BrNyW&#x27;, &#x27;userId&#x27;: None, &#x27;maintainer&#x27;: &#x27;community_contribution&#x27;, &#x27;hpc&#x27;: &#x27;keeling_community&#x27;, &#x27;param&#x27;: {&#x27;key_a&#x27;: &#x27;val_a&#x27;}, &#x27;env&#x27;: {}, &#x27;executableFolder&#x27;: &#x27;/data/keeling/a/cigi-gisolve/scratch/dev/1627390428BrNyW/executable&#x27;, &#x27;dataFolder&#x27;: &#x27;/data/keeling/a/cigi-gisolve/scratch/dev/1627390428BrNyW/data&#x27;, &#x27;resultFolder&#x27;: &#x27;/data/keeling/a/cigi-gisolve/scratch/dev/1627390428BrNyW/result&#x27;}\n",
       "running main...\n",
       "{&#x27;jobId&#x27;: &#x27;1627390428BrNyW&#x27;, &#x27;userId&#x27;: None, ...[download for full log]          </td><td style='text-align:left'>2021-07-27T07:57:01.000Z</td></tr>\n",
       "</tbody>\n",
       "</table>"
      ]
     },
     "metadata": {}
    }
   ],
   "metadata": {
    "tags": []
   }
  },
  {
   "cell_type": "code",
   "execution_count": 11,
   "source": [
    "demo_job.downloadResultFolder('./')"
   ],
   "outputs": [
    {
     "output_type": "stream",
     "name": "stdout",
     "text": [
      "file successfully downloaded under: ./1627390428BrNyW.zip\n"
     ]
    },
    {
     "output_type": "execute_result",
     "data": {
      "text/plain": [
       "'./1627390428BrNyW.zip'"
      ]
     },
     "metadata": {},
     "execution_count": 11
    }
   ],
   "metadata": {}
  }
 ],
 "metadata": {
  "interpreter": {
   "hash": "5926609cd90a2d94a42e09238288e2cffb196a8e75506a864a3e89f4f0cb4116"
  },
  "kernelspec": {
   "name": "python3",
   "display_name": "Python 3.7.7 64-bit ('base': conda)"
  },
  "language_info": {
   "codemirror_mode": {
    "name": "ipython",
    "version": 3
   },
   "file_extension": ".py",
   "mimetype": "text/x-python",
   "name": "python",
   "nbconvert_exporter": "python",
   "pygments_lexer": "ipython3",
   "version": "3.7.7"
  }
 },
 "nbformat": 4,
 "nbformat_minor": 2
}