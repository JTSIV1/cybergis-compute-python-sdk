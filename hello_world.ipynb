{
 "cells": [
  {
   "cell_type": "code",
   "execution_count": 1,
   "metadata": {
    "tags": []
   },
   "outputs": [],
   "source": [
    "from cybergis_compute_client import CyberGISCompute\n",
    "\n",
    "cybergis = CyberGISCompute(url=\"localhost\", port=3000, protocol='HTTP', isJupyter=True)"
   ]
  },
  {
   "cell_type": "code",
   "execution_count": 2,
   "metadata": {},
   "outputs": [
    {
     "output_type": "display_data",
     "data": {
      "text/plain": "<IPython.core.display.HTML object>",
      "text/html": "<table>\n<thead>\n<tr><th style=\"text-align:left\">hpc              </th><th style=\"text-align:left\">ip                        </th><th style=\"text-align:left\">port  </th><th style=\"text-align:left\">is_community_account  </th></tr>\n</thead>\n<tbody>\n<tr><td style=\"text-align:left\">keeling_community</td><td style=\"text-align:left\">keeling.earth.illinois.edu</td><td style=\"text-align:left\">22    </td><td style=\"text-align:left\">True                  </td></tr>\n<tr><td style=\"text-align:left\">hadoop           </td><td style=\"text-align:left\">hadoop01.cigi.illinois.edu</td><td style=\"text-align:left\">50022 </td><td style=\"text-align:left\">False                 </td></tr>\n</tbody>\n</table>"
     },
     "metadata": {}
    }
   ],
   "source": [
    "cybergis.list_hpc()"
   ]
  },
  {
   "cell_type": "code",
   "execution_count": 3,
   "metadata": {},
   "outputs": [
    {
     "output_type": "display_data",
     "data": {
      "text/plain": "<IPython.core.display.HTML object>",
      "text/html": "<table>\n<thead>\n<tr><th style=\"text-align:left\">maintainer             </th><th style=\"text-align:left\">hpc                  </th><th style=\"text-align:left\">default_hpc      </th><th style=\"text-align:left\">job_pool_capacity  </th><th style=\"text-align:left\">executable_folder-&gt;from_user_upload  </th><th style=\"text-align:left\">executable_folder-&gt;must_have                                                     </th></tr>\n</thead>\n<tbody>\n<tr><td style=\"text-align:left\">SUMMA                  </td><td style=\"text-align:left\">[&#x27;keeling_community&#x27;]</td><td style=\"text-align:left\">keeling_community</td><td style=\"text-align:left\">5                  </td><td style=\"text-align:left\">True                                 </td><td style=\"text-align:left\">[&#x27;summa_options.json&#x27;, &#x27;installTestCases_local.sh&#x27;, &#x27;data&#x27;, &#x27;output&#x27;, &#x27;settings&#x27;]</td></tr>\n<tr><td style=\"text-align:left\">hello_world_singularity</td><td style=\"text-align:left\">[&#x27;keeling_community&#x27;]</td><td style=\"text-align:left\">keeling_community</td><td style=\"text-align:left\">5                  </td><td style=\"text-align:left\">False                                </td><td style=\"text-align:left\">not specified                                                                    </td></tr>\n<tr><td style=\"text-align:left\">spatial_access         </td><td style=\"text-align:left\">[&#x27;keeling_community&#x27;]</td><td style=\"text-align:left\">keeling_community</td><td style=\"text-align:left\">5                  </td><td style=\"text-align:left\">False                                </td><td style=\"text-align:left\">not specified                                                                    </td></tr>\n</tbody>\n</table>"
     },
     "metadata": {}
    }
   ],
   "source": [
    "cybergis.list_maintainer()"
   ]
  },
  {
   "cell_type": "code",
   "execution_count": 4,
   "metadata": {},
   "outputs": [
    {
     "output_type": "stream",
     "name": "stdout",
     "text": [
      "📃 created constructor file [job_constructor_1621872367LDYQ.json]\n"
     ]
    }
   ],
   "source": [
    "demo_job = cybergis.create_job('hello_world_singularity')"
   ]
  },
  {
   "cell_type": "code",
   "execution_count": 5,
   "metadata": {
    "tags": []
   },
   "outputs": [
    {
     "output_type": "stream",
     "name": "stdout",
     "text": [
      "✅ job submitted\n"
     ]
    },
    {
     "output_type": "execute_result",
     "data": {
      "text/plain": [
       "<cybergis_compute_client.Job.Job at 0x7feda2e4b810>"
      ]
     },
     "metadata": {},
     "execution_count": 5
    }
   ],
   "source": [
    "demo_job.submit()"
   ]
  },
  {
   "cell_type": "code",
   "execution_count": 6,
   "metadata": {
    "tags": []
   },
   "outputs": [
    {
     "output_type": "stream",
     "name": "stdout",
     "text": [
      "📮 Job ID: 1621872367LDYQ\n💻 HPC: keeling_community\n🤖 Maintainer: hello_world_singularity\n"
     ]
    },
    {
     "output_type": "display_data",
     "data": {
      "text/plain": "<IPython.core.display.HTML object>",
      "text/html": "<table>\n<thead>\n<tr><th>types             </th><th>message                                                                                                                                                                   </th><th>time                    </th></tr>\n</thead>\n<tbody>\n<tr><td>JOB_QUEUED        </td><td>job [1621872367LDYQ] is queued, waiting for registration                                                                                                                  </td><td>2021-05-24T16:06:08.333Z</td></tr>\n<tr><td>JOB_REGISTERED    </td><td>job [1621872367LDYQ] is registered with the supervisor, waiting for initialization                                                                                        </td><td>2021-05-24T16:06:11.201Z</td></tr>\n<tr><td>SLURM_UPLOAD      </td><td>uploading executable files                                                                                                                                                </td><td>2021-05-24T16:06:18.186Z</td></tr>\n<tr><td>SSH_SCP_UPLOAD    </td><td>put file from /job_supervisor/data/root/16218723718SDl to /data/keeling/a/cigi-gisolve/scratch/dev/1621872367LDYQ/executable                                              </td><td>2021-05-24T16:06:18.187Z</td></tr>\n<tr><td>SSH_UNZIP         </td><td>unzipping /data/keeling/a/cigi-gisolve/scratch/dev/1621872367LDYQ/executable.zip to /data/keeling/a/cigi-gisolve/scratch/dev/1621872367LDYQ/executable                    </td><td>2021-05-24T16:06:21.053Z</td></tr>\n<tr><td>SSH_RUN           </td><td>running command [unzip -o -q /data/keeling/a/cigi-gisolve/scratch/dev/1621872367LDYQ/executable.zip -d /data/keeling/a/cigi-gisolve/scratch/dev/1621872367LDYQ/executable]</td><td>2021-05-24T16:06:21.053Z</td></tr>\n<tr><td>SSH_RM            </td><td>removing /data/keeling/a/cigi-gisolve/scratch/dev/1621872367LDYQ/executable.zip                                                                                           </td><td>2021-05-24T16:06:24.087Z</td></tr>\n<tr><td>SSH_RUN           </td><td>running command [rm -rf /data/keeling/a/cigi-gisolve/scratch/dev/1621872367LDYQ/executable.zip;]                                                                          </td><td>2021-05-24T16:06:24.088Z</td></tr>\n<tr><td>SLURM_MKDIR_RESULT</td><td>creating result folder                                                                                                                                                    </td><td>2021-05-24T16:06:24.088Z</td></tr>\n<tr><td>SSH_RM            </td><td>removing /data/keeling/a/cigi-gisolve/scratch/dev/1621872367LDYQ/result                                                                                                   </td><td>2021-05-24T16:06:24.088Z</td></tr>\n<tr><td>SSH_RUN           </td><td>running command [mkdir -p /data/keeling/a/cigi-gisolve/scratch/dev/1621872367LDYQ/result;]                                                                                </td><td>2021-05-24T16:06:24.089Z</td></tr>\n<tr><td>SLURM_SUBMIT      </td><td>submitting slurm job                                                                                                                                                      </td><td>2021-05-24T16:06:24.089Z</td></tr>\n<tr><td>SSH_RUN           </td><td>running command [sbatch job.sbatch]                                                                                                                                       </td><td>2021-05-24T16:06:24.089Z</td></tr>\n<tr><td>JOB_INIT          </td><td>job [1621872367LDYQ] is initialized, waiting for job completion                                                                                                           </td><td>2021-05-24T16:06:24.999Z</td></tr>\n<tr><td>SSH_RUN           </td><td>running command [qstat 30261]                                                                                                                                             </td><td>2021-05-24T16:06:28.843Z</td></tr>\n<tr><td>SSH_RUN           </td><td>running command [qstat 30261]                                                                                                                                             </td><td>2021-05-24T16:06:33.126Z</td></tr>\n<tr><td>SSH_RUN           </td><td>running command [cat /data/keeling/a/cigi-gisolve/scratch/dev/1621872367LDYQ/result/slurm.stdout]                                                                         </td><td>2021-05-24T16:06:33.126Z</td></tr>\n<tr><td>SSH_RM            </td><td>removing /data/keeling/a/cigi-gisolve/scratch/dev/1621872367LDYQ/executable                                                                                               </td><td>2021-05-24T16:06:34.918Z</td></tr>\n<tr><td>SSH_RUN           </td><td>running command [rm -rf /data/keeling/a/cigi-gisolve/scratch/dev/1621872367LDYQ/executable;]                                                                              </td><td>2021-05-24T16:06:34.919Z</td></tr>\n<tr><td>JOB_ENDED         </td><td>job [1621872367LDYQ] finished                                                                                                                                             </td><td>2021-05-24T16:06:34.919Z</td></tr>\n</tbody>\n</table>"
     },
     "metadata": {}
    }
   ],
   "source": [
    "demo_job.events(liveOutput=True)"
   ]
  },
  {
   "cell_type": "code",
   "execution_count": 7,
   "metadata": {
    "tags": []
   },
   "outputs": [
    {
     "output_type": "stream",
     "name": "stdout",
     "text": [
      "📮 Job ID: 1621872367LDYQ\n💻 HPC: keeling_community\n🤖 Maintainer: hello_world_singularity\n"
     ]
    },
    {
     "output_type": "display_data",
     "data": {
      "text/plain": "<IPython.core.display.HTML object>",
      "text/html": "<table>\n<thead>\n<tr><th style=\"text-align:left\">message                  </th><th style=\"text-align:left\">time                    </th></tr>\n</thead>\n<tbody>\n<tr><td style=\"text-align:left\">Submitted batch job 30261</td><td style=\"text-align:left\">2021-05-24T16:06:24.999Z</td></tr>\n<tr><td style=\"text-align:left\">Job id              Name             Username        Time Use S Queue          \n------------------- ---------------- --------------- -------- - ---------------\n30261               1621872367LDYQ   cigi-gisolve    00:00:00 R node                          </td><td style=\"text-align:left\">2021-05-24T16:06:28.843Z</td></tr>\n<tr><td style=\"text-align:left\">Job id              Name             Username        Time Use S Queue          \n------------------- ---------------- --------------- -------- - ---------------\n30261               1621872367LDYQ   cigi-gisolve    00:00:00 C node                          </td><td style=\"text-align:left\">2021-05-24T16:06:33.127Z</td></tr>\n<tr><td style=\"text-align:left\">hello world\njob complete!                          </td><td style=\"text-align:left\">2021-05-24T16:06:34.919Z</td></tr>\n<tr><td style=\"text-align:left\">nullhello world\njob complete!                          </td><td style=\"text-align:left\">2021-05-24T16:06:34.920Z</td></tr>\n</tbody>\n</table>"
     },
     "metadata": {}
    }
   ],
   "source": [
    "demo_job.logs(liveOutput=True)"
   ]
  }
 ],
 "metadata": {
  "kernelspec": {
   "display_name": "Python 3",
   "language": "python",
   "name": "python3"
  },
  "language_info": {
   "codemirror_mode": {
    "name": "ipython",
    "version": 3
   },
   "file_extension": ".py",
   "mimetype": "text/x-python",
   "name": "python",
   "nbconvert_exporter": "python",
   "pygments_lexer": "ipython3",
   "version": "3.7.7"
  }
 },
 "nbformat": 4,
 "nbformat_minor": 2
}